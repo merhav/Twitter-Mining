{
  "nbformat": 4,
  "nbformat_minor": 0,
  "metadata": {
    "colab": {
      "name": "final_project_(1) (1) (1).ipynb",
      "provenance": [],
      "collapsed_sections": [],
      "toc_visible": true
    },
    "kernelspec": {
      "name": "python3",
      "display_name": "Python 3"
    }
  },
  "cells": [
    {
      "cell_type": "code",
      "metadata": {
        "id": "zq1EPphmpMnx",
        "colab": {
          "base_uri": "https://localhost:8080/"
        },
        "outputId": "940a4c27-bc6c-4620-97fd-5e2dc137b3e7"
      },
      "source": [
        "from google.colab import drive\n",
        "drive.mount('/content/drive')"
      ],
      "execution_count": 1,
      "outputs": [
        {
          "output_type": "stream",
          "text": [
            "Mounted at /content/drive\n"
          ],
          "name": "stdout"
        }
      ]
    },
    {
      "cell_type": "code",
      "metadata": {
        "id": "CS51ZhsDpc74"
      },
      "source": [
        "data_path = \"/content/drive/MyDrive/assi_final_project/training.1600000.processed.noemoticon.csv\""
      ],
      "execution_count": 2,
      "outputs": []
    },
    {
      "cell_type": "markdown",
      "metadata": {
        "id": "etYgF7P0ud94"
      },
      "source": [
        "# QUESTION 1: pre-processing and exploring the dataset"
      ]
    },
    {
      "cell_type": "code",
      "metadata": {
        "id": "RP4brkLSpxGK"
      },
      "source": [
        "import numpy as np\r\n",
        "import pandas as pd\r\n",
        "df = pd.read_csv(data_path, encoding='latin-1', header=None)\r\n",
        "\r\n",
        "df = df[[df.columns[0], df.columns[-1]]]\r\n",
        "df.columns = ['labels', 'texts']\r\n",
        "\r\n",
        "labels = df[df.columns[0]]\r\n",
        "texts = df[df.columns[-1]]"
      ],
      "execution_count": 3,
      "outputs": []
    },
    {
      "cell_type": "code",
      "metadata": {
        "colab": {
          "base_uri": "https://localhost:8080/"
        },
        "id": "u-qxMHDWqKKo",
        "outputId": "eab50aba-fe0c-4fa3-b1b1-f693ef69c4b2"
      },
      "source": [
        "pos = df.loc[df['labels'] == 4]\r\n",
        "neg = df.loc[df['labels'] == 0]\r\n",
        "\r\n",
        "pos.replace(4, 1, inplace=True)"
      ],
      "execution_count": 4,
      "outputs": [
        {
          "output_type": "stream",
          "text": [
            "/usr/local/lib/python3.6/dist-packages/pandas/core/frame.py:4389: SettingWithCopyWarning: \n",
            "A value is trying to be set on a copy of a slice from a DataFrame\n",
            "\n",
            "See the caveats in the documentation: https://pandas.pydata.org/pandas-docs/stable/user_guide/indexing.html#returning-a-view-versus-a-copy\n",
            "  method=method,\n"
          ],
          "name": "stderr"
        }
      ]
    },
    {
      "cell_type": "code",
      "metadata": {
        "colab": {
          "base_uri": "https://localhost:8080/",
          "height": 406
        },
        "id": "6EGrZDuTqaNh",
        "outputId": "187f0e87-e132-4a23-83f3-fd5768d08f75"
      },
      "source": [
        "# get only the first 50,000 positive tweets\r\n",
        "pos = pos.head(50000)\r\n",
        "pos"
      ],
      "execution_count": 5,
      "outputs": [
        {
          "output_type": "execute_result",
          "data": {
            "text/html": [
              "<div>\n",
              "<style scoped>\n",
              "    .dataframe tbody tr th:only-of-type {\n",
              "        vertical-align: middle;\n",
              "    }\n",
              "\n",
              "    .dataframe tbody tr th {\n",
              "        vertical-align: top;\n",
              "    }\n",
              "\n",
              "    .dataframe thead th {\n",
              "        text-align: right;\n",
              "    }\n",
              "</style>\n",
              "<table border=\"1\" class=\"dataframe\">\n",
              "  <thead>\n",
              "    <tr style=\"text-align: right;\">\n",
              "      <th></th>\n",
              "      <th>labels</th>\n",
              "      <th>texts</th>\n",
              "    </tr>\n",
              "  </thead>\n",
              "  <tbody>\n",
              "    <tr>\n",
              "      <th>800000</th>\n",
              "      <td>1</td>\n",
              "      <td>I LOVE @Health4UandPets u guys r the best!!</td>\n",
              "    </tr>\n",
              "    <tr>\n",
              "      <th>800001</th>\n",
              "      <td>1</td>\n",
              "      <td>im meeting up with one of my besties tonight! ...</td>\n",
              "    </tr>\n",
              "    <tr>\n",
              "      <th>800002</th>\n",
              "      <td>1</td>\n",
              "      <td>@DaRealSunisaKim Thanks for the Twitter add, S...</td>\n",
              "    </tr>\n",
              "    <tr>\n",
              "      <th>800003</th>\n",
              "      <td>1</td>\n",
              "      <td>Being sick can be really cheap when it hurts t...</td>\n",
              "    </tr>\n",
              "    <tr>\n",
              "      <th>800004</th>\n",
              "      <td>1</td>\n",
              "      <td>@LovesBrooklyn2 he has that effect on everyone</td>\n",
              "    </tr>\n",
              "    <tr>\n",
              "      <th>...</th>\n",
              "      <td>...</td>\n",
              "      <td>...</td>\n",
              "    </tr>\n",
              "    <tr>\n",
              "      <th>849995</th>\n",
              "      <td>1</td>\n",
              "      <td>Now need 8 followers to compleate 1000  Follow...</td>\n",
              "    </tr>\n",
              "    <tr>\n",
              "      <th>849996</th>\n",
              "      <td>1</td>\n",
              "      <td>I knew I had to explain something to my friend...</td>\n",
              "    </tr>\n",
              "    <tr>\n",
              "      <th>849997</th>\n",
              "      <td>1</td>\n",
              "      <td>done tweeting..... til tomorrow..</td>\n",
              "    </tr>\n",
              "    <tr>\n",
              "      <th>849998</th>\n",
              "      <td>1</td>\n",
              "      <td>@cmozilo Act II set is pretty breath-taking -L...</td>\n",
              "    </tr>\n",
              "    <tr>\n",
              "      <th>849999</th>\n",
              "      <td>1</td>\n",
              "      <td>if you don't have an artfire account to sell y...</td>\n",
              "    </tr>\n",
              "  </tbody>\n",
              "</table>\n",
              "<p>50000 rows × 2 columns</p>\n",
              "</div>"
            ],
            "text/plain": [
              "        labels                                              texts\n",
              "800000       1       I LOVE @Health4UandPets u guys r the best!! \n",
              "800001       1  im meeting up with one of my besties tonight! ...\n",
              "800002       1  @DaRealSunisaKim Thanks for the Twitter add, S...\n",
              "800003       1  Being sick can be really cheap when it hurts t...\n",
              "800004       1    @LovesBrooklyn2 he has that effect on everyone \n",
              "...        ...                                                ...\n",
              "849995       1  Now need 8 followers to compleate 1000  Follow...\n",
              "849996       1  I knew I had to explain something to my friend...\n",
              "849997       1                 done tweeting..... til tomorrow.. \n",
              "849998       1  @cmozilo Act II set is pretty breath-taking -L...\n",
              "849999       1  if you don't have an artfire account to sell y...\n",
              "\n",
              "[50000 rows x 2 columns]"
            ]
          },
          "metadata": {
            "tags": []
          },
          "execution_count": 5
        }
      ]
    },
    {
      "cell_type": "code",
      "metadata": {
        "colab": {
          "base_uri": "https://localhost:8080/",
          "height": 406
        },
        "id": "FF4_ZQxtsEOa",
        "outputId": "4a06dd62-883a-429c-a7e2-7d0c6cc775d8"
      },
      "source": [
        "# get only the first 50,000 negative tweets\r\n",
        "neg = neg.head(50000)\r\n",
        "neg"
      ],
      "execution_count": 6,
      "outputs": [
        {
          "output_type": "execute_result",
          "data": {
            "text/html": [
              "<div>\n",
              "<style scoped>\n",
              "    .dataframe tbody tr th:only-of-type {\n",
              "        vertical-align: middle;\n",
              "    }\n",
              "\n",
              "    .dataframe tbody tr th {\n",
              "        vertical-align: top;\n",
              "    }\n",
              "\n",
              "    .dataframe thead th {\n",
              "        text-align: right;\n",
              "    }\n",
              "</style>\n",
              "<table border=\"1\" class=\"dataframe\">\n",
              "  <thead>\n",
              "    <tr style=\"text-align: right;\">\n",
              "      <th></th>\n",
              "      <th>labels</th>\n",
              "      <th>texts</th>\n",
              "    </tr>\n",
              "  </thead>\n",
              "  <tbody>\n",
              "    <tr>\n",
              "      <th>0</th>\n",
              "      <td>0</td>\n",
              "      <td>@switchfoot http://twitpic.com/2y1zl - Awww, t...</td>\n",
              "    </tr>\n",
              "    <tr>\n",
              "      <th>1</th>\n",
              "      <td>0</td>\n",
              "      <td>is upset that he can't update his Facebook by ...</td>\n",
              "    </tr>\n",
              "    <tr>\n",
              "      <th>2</th>\n",
              "      <td>0</td>\n",
              "      <td>@Kenichan I dived many times for the ball. Man...</td>\n",
              "    </tr>\n",
              "    <tr>\n",
              "      <th>3</th>\n",
              "      <td>0</td>\n",
              "      <td>my whole body feels itchy and like its on fire</td>\n",
              "    </tr>\n",
              "    <tr>\n",
              "      <th>4</th>\n",
              "      <td>0</td>\n",
              "      <td>@nationwideclass no, it's not behaving at all....</td>\n",
              "    </tr>\n",
              "    <tr>\n",
              "      <th>...</th>\n",
              "      <td>...</td>\n",
              "      <td>...</td>\n",
              "    </tr>\n",
              "    <tr>\n",
              "      <th>49995</th>\n",
              "      <td>0</td>\n",
              "      <td>@mileycyrus so i have the same insomnia prob a...</td>\n",
              "    </tr>\n",
              "    <tr>\n",
              "      <th>49996</th>\n",
              "      <td>0</td>\n",
              "      <td>20 mintues late for my meeting starting @ 8  h...</td>\n",
              "    </tr>\n",
              "    <tr>\n",
              "      <th>49997</th>\n",
              "      <td>0</td>\n",
              "      <td>@kentucky_derby super excited! Are you tweetin...</td>\n",
              "    </tr>\n",
              "    <tr>\n",
              "      <th>49998</th>\n",
              "      <td>0</td>\n",
              "      <td>I WANT ANOTHER DAY OFF!!!!  To much Sh#t to do...</td>\n",
              "    </tr>\n",
              "    <tr>\n",
              "      <th>49999</th>\n",
              "      <td>0</td>\n",
              "      <td>i just jacked up this umbrella cake</td>\n",
              "    </tr>\n",
              "  </tbody>\n",
              "</table>\n",
              "<p>50000 rows × 2 columns</p>\n",
              "</div>"
            ],
            "text/plain": [
              "       labels                                              texts\n",
              "0           0  @switchfoot http://twitpic.com/2y1zl - Awww, t...\n",
              "1           0  is upset that he can't update his Facebook by ...\n",
              "2           0  @Kenichan I dived many times for the ball. Man...\n",
              "3           0    my whole body feels itchy and like its on fire \n",
              "4           0  @nationwideclass no, it's not behaving at all....\n",
              "...       ...                                                ...\n",
              "49995       0  @mileycyrus so i have the same insomnia prob a...\n",
              "49996       0  20 mintues late for my meeting starting @ 8  h...\n",
              "49997       0  @kentucky_derby super excited! Are you tweetin...\n",
              "49998       0  I WANT ANOTHER DAY OFF!!!!  To much Sh#t to do...\n",
              "49999       0               i just jacked up this umbrella cake \n",
              "\n",
              "[50000 rows x 2 columns]"
            ]
          },
          "metadata": {
            "tags": []
          },
          "execution_count": 6
        }
      ]
    },
    {
      "cell_type": "code",
      "metadata": {
        "colab": {
          "base_uri": "https://localhost:8080/",
          "height": 406
        },
        "id": "3oo3saogurX9",
        "outputId": "bc1344a1-f4e8-4b04-80f6-764e0f2f7152"
      },
      "source": [
        "frames = [pos, neg]\r\n",
        "data = pd.concat(frames,ignore_index=True)\r\n",
        "data"
      ],
      "execution_count": 7,
      "outputs": [
        {
          "output_type": "execute_result",
          "data": {
            "text/html": [
              "<div>\n",
              "<style scoped>\n",
              "    .dataframe tbody tr th:only-of-type {\n",
              "        vertical-align: middle;\n",
              "    }\n",
              "\n",
              "    .dataframe tbody tr th {\n",
              "        vertical-align: top;\n",
              "    }\n",
              "\n",
              "    .dataframe thead th {\n",
              "        text-align: right;\n",
              "    }\n",
              "</style>\n",
              "<table border=\"1\" class=\"dataframe\">\n",
              "  <thead>\n",
              "    <tr style=\"text-align: right;\">\n",
              "      <th></th>\n",
              "      <th>labels</th>\n",
              "      <th>texts</th>\n",
              "    </tr>\n",
              "  </thead>\n",
              "  <tbody>\n",
              "    <tr>\n",
              "      <th>0</th>\n",
              "      <td>1</td>\n",
              "      <td>I LOVE @Health4UandPets u guys r the best!!</td>\n",
              "    </tr>\n",
              "    <tr>\n",
              "      <th>1</th>\n",
              "      <td>1</td>\n",
              "      <td>im meeting up with one of my besties tonight! ...</td>\n",
              "    </tr>\n",
              "    <tr>\n",
              "      <th>2</th>\n",
              "      <td>1</td>\n",
              "      <td>@DaRealSunisaKim Thanks for the Twitter add, S...</td>\n",
              "    </tr>\n",
              "    <tr>\n",
              "      <th>3</th>\n",
              "      <td>1</td>\n",
              "      <td>Being sick can be really cheap when it hurts t...</td>\n",
              "    </tr>\n",
              "    <tr>\n",
              "      <th>4</th>\n",
              "      <td>1</td>\n",
              "      <td>@LovesBrooklyn2 he has that effect on everyone</td>\n",
              "    </tr>\n",
              "    <tr>\n",
              "      <th>...</th>\n",
              "      <td>...</td>\n",
              "      <td>...</td>\n",
              "    </tr>\n",
              "    <tr>\n",
              "      <th>99995</th>\n",
              "      <td>0</td>\n",
              "      <td>@mileycyrus so i have the same insomnia prob a...</td>\n",
              "    </tr>\n",
              "    <tr>\n",
              "      <th>99996</th>\n",
              "      <td>0</td>\n",
              "      <td>20 mintues late for my meeting starting @ 8  h...</td>\n",
              "    </tr>\n",
              "    <tr>\n",
              "      <th>99997</th>\n",
              "      <td>0</td>\n",
              "      <td>@kentucky_derby super excited! Are you tweetin...</td>\n",
              "    </tr>\n",
              "    <tr>\n",
              "      <th>99998</th>\n",
              "      <td>0</td>\n",
              "      <td>I WANT ANOTHER DAY OFF!!!!  To much Sh#t to do...</td>\n",
              "    </tr>\n",
              "    <tr>\n",
              "      <th>99999</th>\n",
              "      <td>0</td>\n",
              "      <td>i just jacked up this umbrella cake</td>\n",
              "    </tr>\n",
              "  </tbody>\n",
              "</table>\n",
              "<p>100000 rows × 2 columns</p>\n",
              "</div>"
            ],
            "text/plain": [
              "       labels                                              texts\n",
              "0           1       I LOVE @Health4UandPets u guys r the best!! \n",
              "1           1  im meeting up with one of my besties tonight! ...\n",
              "2           1  @DaRealSunisaKim Thanks for the Twitter add, S...\n",
              "3           1  Being sick can be really cheap when it hurts t...\n",
              "4           1    @LovesBrooklyn2 he has that effect on everyone \n",
              "...       ...                                                ...\n",
              "99995       0  @mileycyrus so i have the same insomnia prob a...\n",
              "99996       0  20 mintues late for my meeting starting @ 8  h...\n",
              "99997       0  @kentucky_derby super excited! Are you tweetin...\n",
              "99998       0  I WANT ANOTHER DAY OFF!!!!  To much Sh#t to do...\n",
              "99999       0               i just jacked up this umbrella cake \n",
              "\n",
              "[100000 rows x 2 columns]"
            ]
          },
          "metadata": {
            "tags": []
          },
          "execution_count": 7
        }
      ]
    },
    {
      "cell_type": "markdown",
      "metadata": {
        "id": "FuRoUAi7lIue"
      },
      "source": [
        "# pre-processing"
      ]
    },
    {
      "cell_type": "code",
      "metadata": {
        "colab": {
          "base_uri": "https://localhost:8080/"
        },
        "id": "Xpxu2pfDgC08",
        "outputId": "cf12408a-69be-4bee-be3a-75ae817e0c74"
      },
      "source": [
        "import pandas as pd\r\n",
        "import numpy as np\r\n",
        "import nltk\r\n",
        "from nltk import word_tokenize\r\n",
        "from nltk.stem.porter import PorterStemmer\r\n",
        "import re\r\n",
        "from nltk.corpus import stopwords\r\n",
        "import string\r\n",
        "from nltk.stem.porter import PorterStemmer\r\n",
        "nltk.download('stopwords')\r\n",
        "nltk.download('punkt')\r\n",
        "\r\n",
        "punctuation = list(string.punctuation)\r\n",
        "stop = stopwords.words('english') + punctuation + ['RT','rt', 'via', 'the',u'\\u2019',u'\\u2026','The',u'de',u'\\xe9']\r\n",
        " \r\n",
        "emoticons_str = r\"\"\"\r\n",
        "    (?:\r\n",
        "        [:=;] # Eyes\r\n",
        "        [oO\\-]? # Nose (optional)\r\n",
        "        [D\\)\\]\\(\\]/\\\\OpP] # Mouth\r\n",
        "    )\"\"\"\r\n",
        " \r\n",
        "regex_str = [\r\n",
        "    emoticons_str,\r\n",
        "    r'<[^>]+>', # HTML tags\r\n",
        "    r'(?:@[\\w_]+)', # @-mentions\r\n",
        "    r\"(?:\\#+[\\w_]+[\\w\\'_\\-]*[\\w_]+)\", # hash-tags\r\n",
        "    r'http[s]?://(?:[a-z]|[0-9]|[$-_@.&+]|[!*\\(\\),]|(?:%[0-9a-f][0-9a-f]))+', # URLs\r\n",
        " \r\n",
        "    r'(?:(?:\\d+,?)+(?:\\.?\\d+)?)', # numbers\r\n",
        "    r\"(?:[a-z][a-z'\\-_]+[a-z])\", # words with - and '\r\n",
        "    r'(?:[\\w_]+)', # other words\r\n",
        "    r'(?:\\S)' # anything else\r\n",
        "]\r\n",
        "numbers_re=re.compile(r'(?:(?:\\d+,?)+(?:\\.?\\d+)?)')\r\n",
        "tokens_re = re.compile(r'('+'|'.join(regex_str)+')', re.VERBOSE | re.IGNORECASE)\r\n",
        "emoticon_re = re.compile(r'^'+emoticons_str+'$', re.VERBOSE | re.IGNORECASE)\r\n",
        "\r\n",
        "#function that says which tokens to keep. Used to eliminate words that will not help in classifications\r\n",
        "def keepTokens(token):\r\n",
        "  if token=='' or token[0]=='@' or token[0:4]=='http' or (token in stop) or numbers_re.search(token):\r\n",
        "    return False\r\n",
        "  return True"
      ],
      "execution_count": 8,
      "outputs": [
        {
          "output_type": "stream",
          "text": [
            "[nltk_data] Downloading package stopwords to /root/nltk_data...\n",
            "[nltk_data]   Unzipping corpora/stopwords.zip.\n",
            "[nltk_data] Downloading package punkt to /root/nltk_data...\n",
            "[nltk_data]   Unzipping tokenizers/punkt.zip.\n"
          ],
          "name": "stdout"
        }
      ]
    },
    {
      "cell_type": "code",
      "metadata": {
        "id": "PW9Zt9zjfTsN"
      },
      "source": [
        "# pre-processing\r\n",
        "def clean_tweets(text):\r\n",
        "  tokens = tokens_re.findall(text)\r\n",
        "  tokens = filter(keepTokens,tokens) #eliminating tokens that are not useful\r\n",
        "  tokens = map(ps.stem,tokens) #stemming the tokens after elimination\r\n",
        "  return \" \".join(tokens) #return as one string\r\n"
      ],
      "execution_count": 9,
      "outputs": []
    },
    {
      "cell_type": "code",
      "metadata": {
        "id": "jubPWTZakUSF"
      },
      "source": [
        "ps = PorterStemmer()\r\n",
        "data['texts']=data.apply(lambda row: clean_tweets(row['texts']),axis=1) #all pre-processing done in here"
      ],
      "execution_count": 10,
      "outputs": []
    },
    {
      "cell_type": "code",
      "metadata": {
        "colab": {
          "base_uri": "https://localhost:8080/",
          "height": 406
        },
        "id": "aMgpGjkbk_DS",
        "outputId": "492608fc-3eaf-440d-ba93-988d2453b42d"
      },
      "source": [
        "data"
      ],
      "execution_count": 11,
      "outputs": [
        {
          "output_type": "execute_result",
          "data": {
            "text/html": [
              "<div>\n",
              "<style scoped>\n",
              "    .dataframe tbody tr th:only-of-type {\n",
              "        vertical-align: middle;\n",
              "    }\n",
              "\n",
              "    .dataframe tbody tr th {\n",
              "        vertical-align: top;\n",
              "    }\n",
              "\n",
              "    .dataframe thead th {\n",
              "        text-align: right;\n",
              "    }\n",
              "</style>\n",
              "<table border=\"1\" class=\"dataframe\">\n",
              "  <thead>\n",
              "    <tr style=\"text-align: right;\">\n",
              "      <th></th>\n",
              "      <th>labels</th>\n",
              "      <th>texts</th>\n",
              "    </tr>\n",
              "  </thead>\n",
              "  <tbody>\n",
              "    <tr>\n",
              "      <th>0</th>\n",
              "      <td>1</td>\n",
              "      <td>I love u guy r best</td>\n",
              "    </tr>\n",
              "    <tr>\n",
              "      <th>1</th>\n",
              "      <td>1</td>\n",
              "      <td>im meet one besti tonight cant wait girl talk</td>\n",
              "    </tr>\n",
              "    <tr>\n",
              "      <th>2</th>\n",
              "      <td>1</td>\n",
              "      <td>thank twitter add sunisa I got meet hin show D...</td>\n",
              "    </tr>\n",
              "    <tr>\n",
              "      <th>3</th>\n",
              "      <td>1</td>\n",
              "      <td>be sick realli cheap hurt much eat real food p...</td>\n",
              "    </tr>\n",
              "    <tr>\n",
              "      <th>4</th>\n",
              "      <td>1</td>\n",
              "      <td>effect everyon</td>\n",
              "    </tr>\n",
              "    <tr>\n",
              "      <th>...</th>\n",
              "      <td>...</td>\n",
              "      <td>...</td>\n",
              "    </tr>\n",
              "    <tr>\n",
              "      <th>99995</th>\n",
              "      <td>0</td>\n",
              "      <td>insomnia prob slept hr woke nd couldnt go back...</td>\n",
              "    </tr>\n",
              "    <tr>\n",
              "      <th>99996</th>\n",
              "      <td>0</td>\n",
              "      <td>mintu late meet start how'd I know I go late a...</td>\n",
              "    </tr>\n",
              "    <tr>\n",
              "      <th>99997</th>\n",
              "      <td>0</td>\n",
              "      <td>super excit are tweet event happen onli way I ...</td>\n",
              "    </tr>\n",
              "    <tr>\n",
              "      <th>99998</th>\n",
              "      <td>0</td>\n",
              "      <td>I want anoth day off To much Sh today got quot...</td>\n",
              "    </tr>\n",
              "    <tr>\n",
              "      <th>99999</th>\n",
              "      <td>0</td>\n",
              "      <td>jack umbrella cake</td>\n",
              "    </tr>\n",
              "  </tbody>\n",
              "</table>\n",
              "<p>100000 rows × 2 columns</p>\n",
              "</div>"
            ],
            "text/plain": [
              "       labels                                              texts\n",
              "0           1                                I love u guy r best\n",
              "1           1      im meet one besti tonight cant wait girl talk\n",
              "2           1  thank twitter add sunisa I got meet hin show D...\n",
              "3           1  be sick realli cheap hurt much eat real food p...\n",
              "4           1                                     effect everyon\n",
              "...       ...                                                ...\n",
              "99995       0  insomnia prob slept hr woke nd couldnt go back...\n",
              "99996       0  mintu late meet start how'd I know I go late a...\n",
              "99997       0  super excit are tweet event happen onli way I ...\n",
              "99998       0  I want anoth day off To much Sh today got quot...\n",
              "99999       0                                 jack umbrella cake\n",
              "\n",
              "[100000 rows x 2 columns]"
            ]
          },
          "metadata": {
            "tags": []
          },
          "execution_count": 11
        }
      ]
    },
    {
      "cell_type": "markdown",
      "metadata": {
        "id": "DTyYCDuVlVnr"
      },
      "source": [
        "# Explore the Data"
      ]
    },
    {
      "cell_type": "code",
      "metadata": {
        "colab": {
          "base_uri": "https://localhost:8080/",
          "height": 294
        },
        "id": "3dCEyhSElbNe",
        "outputId": "b5aad74a-058b-4da8-8a2a-b3f4398f1093"
      },
      "source": [
        "import matplotlib.pyplot as plt\r\n",
        "\r\n",
        "def add_count(target,tokens):\r\n",
        "  for token in tokens.split(\" \"):\r\n",
        "    token_counter[target][token]=token_counter[target].get(token,0)+1\r\n",
        "\r\n",
        "token_counter={0:{},1:{}}\r\n",
        "# counting all the occurrences of the tokens\r\n",
        "data.apply(lambda row: add_count(row['labels'],row['texts']),axis=1)\r\n",
        "\r\n",
        "#sorting results based on frequancy\r\n",
        "token_counter[0]=sorted(token_counter[0].items(), key=lambda kv:kv[1],reverse=True)\r\n",
        "token_counter[1]=sorted(token_counter[1].items(), key=lambda kv:kv[1],reverse=True)\r\n",
        "\r\n",
        "#plotting first line for negative tokens\r\n",
        "x=range(0,len(token_counter[0]))\r\n",
        "y=[value for (key,value) in sorted(token_counter[0], key=lambda kv: -kv[1])]\r\n",
        "plt.plot(x, y,label=\"negative,0\")\r\n",
        "\r\n",
        "#plotting second line for positive tokens\r\n",
        "x=range(0,len(token_counter[1]))\r\n",
        "y=[value for (key,value) in sorted(token_counter[1], key=lambda kv: -kv[1])]\r\n",
        "plt.plot(x, y,label=\"positive,1\")\r\n",
        "\r\n",
        "plt.title('frequancy of words in different categories -logarithmic long tail')\r\n",
        "plt.xlabel('Nth most common word')\r\n",
        "plt.ylabel('term frequancy (tf)')\r\n",
        "plt.yscale('log')\r\n",
        "plt.legend(loc='best')\r\n",
        "plt.show()\r\n"
      ],
      "execution_count": 12,
      "outputs": [
        {
          "output_type": "display_data",
          "data": {
            "image/png": "[encoded data removed]",
            "text/plain": [
              "<Figure size 432x288 with 1 Axes>"
            ]
          },
          "metadata": {
            "tags": [],
            "needs_background": "light"
          }
        }
      ]
    },
    {
      "cell_type": "markdown",
      "metadata": {
        "id": "8_fphNjl9wPx"
      },
      "source": [
        "Most popular terms"
      ]
    },
    {
      "cell_type": "code",
      "metadata": {
        "colab": {
          "base_uri": "https://localhost:8080/",
          "height": 294
        },
        "id": "vuXhiLwP9vhP",
        "outputId": "b8a87e60-f957-481f-ed67-98672214a367"
      },
      "source": [
        "x_neg = [i[0] for i in token_counter[0][:10]]\r\n",
        "y_neg = [i[1] for i in token_counter[0][:10]]\r\n",
        "\r\n",
        "plt.bar(x_neg,y_neg)\r\n",
        "plt.title(\"top 10 most negative terms\")\r\n",
        "plt.ylabel('occurrences')\r\n",
        "plt.xlabel('terms')\r\n",
        "plt.show()\r\n"
      ],
      "execution_count": 13,
      "outputs": [
        {
          "output_type": "display_data",
          "data": {
            "image/png": "[encoded data removed]",
            "text/plain": [
              "<Figure size 432x288 with 1 Axes>"
            ]
          },
          "metadata": {
            "tags": [],
            "needs_background": "light"
          }
        }
      ]
    },
    {
      "cell_type": "code",
      "metadata": {
        "colab": {
          "base_uri": "https://localhost:8080/",
          "height": 294
        },
        "id": "C1RQDdQE-avY",
        "outputId": "48fc5710-3815-4b9d-e3bd-a76eceec6c5c"
      },
      "source": [
        "x_pos = [i[0] for i in token_counter[1][:10]]\r\n",
        "y_pos = [i[1] for i in token_counter[1][:10]]\r\n",
        "plt.bar(x_pos,y_pos)\r\n",
        "plt.title(\"top 10 most positive terms\")\r\n",
        "plt.ylabel('occurrences')\r\n",
        "plt.xlabel('terms')\r\n",
        "plt.show()"
      ],
      "execution_count": 14,
      "outputs": [
        {
          "output_type": "display_data",
          "data": {
            "image/png": "[encoded data removed]",
            "text/plain": [
              "<Figure size 432x288 with 1 Axes>"
            ]
          },
          "metadata": {
            "tags": [],
            "needs_background": "light"
          }
        }
      ]
    },
    {
      "cell_type": "markdown",
      "metadata": {
        "id": "-hXJVdRHuUM2"
      },
      "source": [
        "#QUESTION 2: data training and evaluating"
      ]
    },
    {
      "cell_type": "markdown",
      "metadata": {
        "id": "qF4eHDp9ugtV"
      },
      "source": [
        "split to train set and test set"
      ]
    },
    {
      "cell_type": "code",
      "metadata": {
        "id": "7TM5FhhUx_Y9"
      },
      "source": [
        "from keras.preprocessing import sequence\r\n",
        "\r\n",
        "#in order to split train,validation and test we used this function with data-split ratio of 0.8\r\n",
        "def split(data_split):\r\n",
        "  train_percent=0.8 \r\n",
        "  msk = np.random.rand(len(data_split)) < 0.8\r\n",
        "  return data_split[msk],data_split[~msk]\r\n",
        "\r\n",
        "#collecting all vocabulary tokens\r\n",
        "vocab= set()\r\n",
        "vocab.update(i[0] for i in token_counter[0] if i[1] >299 )\r\n",
        "vocab.update(i[0] for i in token_counter[1]  if i[1] >299)\r\n",
        "vocab_to_int = {w:i+1 for i, w in enumerate(vocab)}\r\n"
      ],
      "execution_count": 15,
      "outputs": []
    },
    {
      "cell_type": "code",
      "metadata": {
        "id": "-entIXu02ysv"
      },
      "source": [
        "#parsing to number series\r\n",
        "def tweet_to_series(tweet):\r\n",
        "  words=tweet.split()\r\n",
        "  return list(map(lambda x:vocab_to_int[x] if x in vocab_to_int  else 299,words))\r\n",
        "\r\n",
        "data['encoded']=data.apply(lambda row: tweet_to_series(row['texts']),axis=1)\r\n"
      ],
      "execution_count": 16,
      "outputs": []
    },
    {
      "cell_type": "code",
      "metadata": {
        "colab": {
          "base_uri": "https://localhost:8080/"
        },
        "id": "oVSJp3kh3G1f",
        "outputId": "d14a03de-c99a-4ecb-9012-80377da702af"
      },
      "source": [
        "#splitting the data into 3 parts.\r\n",
        "train , test = split(data)\r\n",
        "train, val = split(train)\r\n",
        "\r\n",
        "corpus_train=[text for text in train['texts']] #crating the records for TRAIN-SET\r\n",
        "corpus_val=[text for text in val['texts']] #crating the records for VALIDATION-SET\r\n",
        "corpus_test = [text for text in test['texts']]  #crating the records for TEST-SET\r\n",
        "\r\n",
        "#for keras model:\r\n",
        "max_length = 300\r\n",
        "X_train_K = sequence.pad_sequences(train['encoded'], maxlen=max_length)\r\n",
        "X_validation_K = sequence.pad_sequences(val['encoded'], maxlen=max_length)\r\n",
        "X_test_K = sequence.pad_sequences(test['encoded'], maxlen=max_length)\r\n",
        "X_train_K"
      ],
      "execution_count": 17,
      "outputs": [
        {
          "output_type": "execute_result",
          "data": {
            "text/plain": [
              "array([[  0,   0,   0, ..., 186, 131, 193],\n",
              "       [  0,   0,   0, ..., 229,  99, 299],\n",
              "       [  0,   0,   0, ...,  99, 198, 299],\n",
              "       ...,\n",
              "       [  0,   0,   0, ..., 299, 299, 299],\n",
              "       [  0,   0,   0, ...,   0,   0, 139],\n",
              "       [  0,   0,   0, ...,  74, 279, 107]], dtype=int32)"
            ]
          },
          "metadata": {
            "tags": []
          },
          "execution_count": 17
        }
      ]
    },
    {
      "cell_type": "code",
      "metadata": {
        "id": "mkk9bNPZ3ono"
      },
      "source": [
        "from sklearn.feature_extraction.text import TfidfVectorizer\r\n",
        "#vectorizer after tuning hyper-parameters\r\n",
        "vectorizer = TfidfVectorizer(min_df=0.001,max_features=500)\r\n",
        "\r\n",
        "#turning tweets to numeric vectors\r\n",
        "X_train = vectorizer.fit_transform(corpus_train).toarray()\r\n",
        "X_validation = vectorizer.transform(corpus_val).toarray()\r\n",
        "\r\n",
        "#turning labels to numeric values in binary\r\n",
        "Y_train = np.asarray([0 if text==0 else 1 for text in train['labels']])\r\n",
        "Y_validation=np.asarray([0 if text==0 else 1 for text in val['labels']])"
      ],
      "execution_count": 18,
      "outputs": []
    },
    {
      "cell_type": "code",
      "metadata": {
        "colab": {
          "base_uri": "https://localhost:8080/"
        },
        "id": "_9pKsXVH30kv",
        "outputId": "88c67e98-bb3b-409b-bc7d-519420588dc1"
      },
      "source": [
        "#adding test records\r\n",
        "X_test = vectorizer.transform(corpus_test).toarray()\r\n",
        "Y_test=np.asarray([0 if text==0 else 1 for text in test['labels']])\r\n",
        "\r\n",
        "print(\"num of attributes\",str(len(vectorizer.get_feature_names())))"
      ],
      "execution_count": 19,
      "outputs": [
        {
          "output_type": "stream",
          "text": [
            "num of attributes 500\n"
          ],
          "name": "stdout"
        }
      ]
    },
    {
      "cell_type": "markdown",
      "metadata": {
        "id": "IMrqmroR5hUP"
      },
      "source": [
        "**LSTM**"
      ]
    },
    {
      "cell_type": "code",
      "metadata": {
        "colab": {
          "base_uri": "https://localhost:8080/"
        },
        "id": "dwxnB5IM5kTn",
        "outputId": "011cbc47-b44d-407a-a7fc-0f5283979f76"
      },
      "source": [
        "\r\n",
        "from tensorflow.keras.models import Sequential\r\n",
        "from tensorflow.keras.layers import Dense, Embedding\r\n",
        "from tensorflow.keras import layers\r\n",
        "from tensorflow.keras.layers import LSTM,Dense,Dropout,Flatten,Bidirectional,Embedding,RepeatVector,Input,concatenate,Reshape,Concatenate\r\n",
        "input_dim = X_train_K.shape[1]\r\n",
        "\r\n",
        "#model layers creation\r\n",
        "model_lstm = Sequential()\r\n",
        "model_lstm.add(Embedding(300, 32, input_length=max_length))\r\n",
        "model_lstm.add(Dropout(0.2))\r\n",
        "model_lstm.add(LSTM(100))\r\n",
        "model_lstm.add(Dropout(0.2))\r\n",
        "model_lstm.add(Dense(1,activation='sigmoid'))\r\n",
        "model_lstm.compile(loss='binary_crossentropy',optimizer='adam', metrics=['accuracy'])\r\n",
        "\r\n",
        "\r\n",
        "print(model_lstm.summary())"
      ],
      "execution_count": 20,
      "outputs": [
        {
          "output_type": "stream",
          "text": [
            "Model: \"sequential\"\n",
            "_________________________________________________________________\n",
            "Layer (type)                 Output Shape              Param #   \n",
            "=================================================================\n",
            "embedding (Embedding)        (None, 300, 32)           9600      \n",
            "_________________________________________________________________\n",
            "dropout (Dropout)            (None, 300, 32)           0         \n",
            "_________________________________________________________________\n",
            "lstm (LSTM)                  (None, 100)               53200     \n",
            "_________________________________________________________________\n",
            "dropout_1 (Dropout)          (None, 100)               0         \n",
            "_________________________________________________________________\n",
            "dense (Dense)                (None, 1)                 101       \n",
            "=================================================================\n",
            "Total params: 62,901\n",
            "Trainable params: 62,901\n",
            "Non-trainable params: 0\n",
            "_________________________________________________________________\n",
            "None\n"
          ],
          "name": "stdout"
        }
      ]
    },
    {
      "cell_type": "code",
      "metadata": {
        "id": "Y6hqY5Y-8r4s",
        "colab": {
          "base_uri": "https://localhost:8080/"
        },
        "outputId": "8dc71c6d-e090-437f-a53e-a44584520e26"
      },
      "source": [
        "model_lstm.fit(X_train_K, Y_train,epochs=10,verbose=1,validation_data=(X_validation_K, Y_validation), batch_size=2048)"
      ],
      "execution_count": 21,
      "outputs": [
        {
          "output_type": "stream",
          "text": [
            "Epoch 1/10\n",
            "32/32 [==============================] - 253s 8s/step - loss: 0.6895 - accuracy: 0.5456 - val_loss: 0.6543 - val_accuracy: 0.5985\n",
            "Epoch 2/10\n",
            "32/32 [==============================] - 292s 9s/step - loss: 0.6295 - accuracy: 0.6634 - val_loss: 0.5738 - val_accuracy: 0.7092\n",
            "Epoch 3/10\n",
            "32/32 [==============================] - 241s 8s/step - loss: 0.5677 - accuracy: 0.7067 - val_loss: 0.5475 - val_accuracy: 0.7230\n",
            "Epoch 4/10\n",
            "32/32 [==============================] - 241s 8s/step - loss: 0.5510 - accuracy: 0.7152 - val_loss: 0.5446 - val_accuracy: 0.7206\n",
            "Epoch 5/10\n",
            "32/32 [==============================] - 252s 8s/step - loss: 0.5497 - accuracy: 0.7120 - val_loss: 0.5393 - val_accuracy: 0.7258\n",
            "Epoch 6/10\n",
            "32/32 [==============================] - 241s 8s/step - loss: 0.5467 - accuracy: 0.7176 - val_loss: 0.5398 - val_accuracy: 0.7242\n",
            "Epoch 7/10\n",
            "32/32 [==============================] - 241s 8s/step - loss: 0.5452 - accuracy: 0.7148 - val_loss: 0.5373 - val_accuracy: 0.7250\n",
            "Epoch 8/10\n",
            "32/32 [==============================] - 242s 8s/step - loss: 0.5443 - accuracy: 0.7162 - val_loss: 0.5379 - val_accuracy: 0.7245\n",
            "Epoch 9/10\n",
            "32/32 [==============================] - 239s 7s/step - loss: 0.5458 - accuracy: 0.7140 - val_loss: 0.5353 - val_accuracy: 0.7277\n",
            "Epoch 10/10\n",
            "32/32 [==============================] - 241s 8s/step - loss: 0.5434 - accuracy: 0.7163 - val_loss: 0.5352 - val_accuracy: 0.7241\n"
          ],
          "name": "stdout"
        },
        {
          "output_type": "execute_result",
          "data": {
            "text/plain": [
              "<tensorflow.python.keras.callbacks.History at 0x7f6ff3f95208>"
            ]
          },
          "metadata": {
            "tags": []
          },
          "execution_count": 21
        }
      ]
    },
    {
      "cell_type": "markdown",
      "metadata": {
        "id": "evZrDxmyVrgi"
      },
      "source": [
        "**train and test accuracy**"
      ]
    },
    {
      "cell_type": "code",
      "metadata": {
        "colab": {
          "base_uri": "https://localhost:8080/"
        },
        "id": "ngF-nAYMVqxn",
        "outputId": "2653b259-b28c-428f-925f-ec3972d0e223"
      },
      "source": [
        "print(\"train acc: \",model_lstm.evaluate(X_train_K,Y_train))\r\n",
        "print(\"test acc: \",model_lstm.evaluate(X_test_K,Y_test))"
      ],
      "execution_count": 22,
      "outputs": [
        {
          "output_type": "stream",
          "text": [
            "2003/2003 [==============================] - 119s 59ms/step - loss: 0.5374 - accuracy: 0.7197\n",
            "train acc:  [0.5373874306678772, 0.7196828722953796]\n",
            "618/618 [==============================] - 37s 59ms/step - loss: 0.5403 - accuracy: 0.7193\n",
            "test acc:  [0.5402931571006775, 0.7192556858062744]\n"
          ],
          "name": "stdout"
        }
      ]
    },
    {
      "cell_type": "markdown",
      "metadata": {
        "id": "l99Fpf4_VE9V"
      },
      "source": [
        "# Random Forest"
      ]
    },
    {
      "cell_type": "code",
      "metadata": {
        "id": "F1cEePg3VKDb"
      },
      "source": [
        "from sklearn.linear_model import LogisticRegression\r\n",
        "from sklearn.metrics import accuracy_score\r\n",
        "from sklearn.ensemble import RandomForestClassifier\r\n",
        "model = RandomForestClassifier(n_estimators=150, max_depth=7, random_state=0, n_jobs=-1)\r\n",
        "model.fit(X_train,Y_train)\r\n",
        "predictions=model.predict(X_validation)"
      ],
      "execution_count": 23,
      "outputs": []
    },
    {
      "cell_type": "code",
      "metadata": {
        "colab": {
          "base_uri": "https://localhost:8080/"
        },
        "id": "OyJ3d8viVTJU",
        "outputId": "ce970a40-c778-4f88-ca6c-d18b9f11c988"
      },
      "source": [
        "print(\"val acc:\",accuracy_score(Y_validation, predictions))"
      ],
      "execution_count": 24,
      "outputs": [
        {
          "output_type": "stream",
          "text": [
            "val acc: 0.6905160131326271\n"
          ],
          "name": "stdout"
        }
      ]
    },
    {
      "cell_type": "markdown",
      "metadata": {
        "id": "Xs6KpvdrVk99"
      },
      "source": [
        "**train and test accuracy**"
      ]
    },
    {
      "cell_type": "code",
      "metadata": {
        "colab": {
          "base_uri": "https://localhost:8080/"
        },
        "id": "4kS7vgj2VoR7",
        "outputId": "89a66490-fa29-48a3-8f69-6f0880c24628"
      },
      "source": [
        "predict_train = model.predict(X_train)\r\n",
        "predict_test = model.predict(X_test)\r\n",
        "print(\"train acc: \",accuracy_score(Y_train, predict_train))\r\n",
        "print(\"test acc: \",accuracy_score(Y_test, predict_test))"
      ],
      "execution_count": 25,
      "outputs": [
        {
          "output_type": "stream",
          "text": [
            "train acc:  0.6895023485900657\n",
            "test acc:  0.6824939320388349\n"
          ],
          "name": "stdout"
        }
      ]
    },
    {
      "cell_type": "markdown",
      "metadata": {
        "id": "ROrD0wTVS0_f"
      },
      "source": [
        "# Q3"
      ]
    },
    {
      "cell_type": "code",
      "metadata": {
        "id": "7YvR9fscS2qe",
        "colab": {
          "base_uri": "https://localhost:8080/"
        },
        "outputId": "5087e8e7-44b2-464e-dc09-4a0d1a626d1f"
      },
      "source": [
        "!pip3 install tweepy\r\n",
        "import tweepy\r\n",
        "from tweepy import OAuthHandler\r\n",
        "import json\r\n",
        "\r\n",
        "consumer_key = '7p1vZahHcDsQ3kYVFf1G5CJAA'\r\n",
        "consumer_secret = 'JYjhsCSUgwtY1wnB8nPNuFE1uGezgjzOqMe8QeKqciiELuTxpw'\r\n",
        "access_token = '1347526998776807424-ULSbLrEgZXXZcDHm3cPzRVjDSGv0cN'\r\n",
        "access_secret = 'GIWZ8QcvgS9GLDMmzevrr7Ecy6ryXOlR0MkcAecZ3OcLg'"
      ],
      "execution_count": null,
      "outputs": [
        {
          "output_type": "stream",
          "text": [
            "Requirement already satisfied: tweepy in /usr/local/lib/python3.6/dist-packages (3.6.0)\n",
            "Requirement already satisfied: requests-oauthlib>=0.7.0 in /usr/local/lib/python3.6/dist-packages (from tweepy) (1.3.0)\n",
            "Requirement already satisfied: PySocks>=1.5.7 in /usr/local/lib/python3.6/dist-packages (from tweepy) (1.7.1)\n",
            "Requirement already satisfied: requests>=2.11.1 in /usr/local/lib/python3.6/dist-packages (from tweepy) (2.23.0)\n",
            "Requirement already satisfied: six>=1.10.0 in /usr/local/lib/python3.6/dist-packages (from tweepy) (1.15.0)\n",
            "Requirement already satisfied: oauthlib>=3.0.0 in /usr/local/lib/python3.6/dist-packages (from requests-oauthlib>=0.7.0->tweepy) (3.1.0)\n",
            "Requirement already satisfied: idna<3,>=2.5 in /usr/local/lib/python3.6/dist-packages (from requests>=2.11.1->tweepy) (2.10)\n",
            "Requirement already satisfied: certifi>=2017.4.17 in /usr/local/lib/python3.6/dist-packages (from requests>=2.11.1->tweepy) (2020.12.5)\n",
            "Requirement already satisfied: chardet<4,>=3.0.2 in /usr/local/lib/python3.6/dist-packages (from requests>=2.11.1->tweepy) (3.0.4)\n",
            "Requirement already satisfied: urllib3!=1.25.0,!=1.25.1,<1.26,>=1.21.1 in /usr/local/lib/python3.6/dist-packages (from requests>=2.11.1->tweepy) (1.24.3)\n"
          ],
          "name": "stdout"
        }
      ]
    },
    {
      "cell_type": "code",
      "metadata": {
        "id": "_PrHnhlZTMyv"
      },
      "source": [
        "auth = OAuthHandler(consumer_key,consumer_secret)\r\n",
        "auth.set_access_token(access_token,access_secret)\r\n",
        "auth = tweepy.OAuthHandler(consumer_key, consumer_secret)\r\n",
        "auth.set_access_token(access_token, access_secret)\r\n",
        "\r\n",
        "api = tweepy.API(auth,wait_on_rate_limit=True)"
      ],
      "execution_count": null,
      "outputs": []
    },
    {
      "cell_type": "code",
      "metadata": {
        "id": "ndY2R4p3Te7q"
      },
      "source": [
        "twitter_test_list = []\r\n",
        "\r\n",
        "#override tweepy.StreamListener to add logic to on_status\r\n",
        "class MyStreamListener(tweepy.StreamListener):\r\n",
        "  def on_status(self, status):\r\n",
        "        print(status.text)\r\n",
        "  def on_data(self, data):\r\n",
        "        try:\r\n",
        "          y = json.loads(data)\r\n",
        "          print(len(twitter_test_list))\r\n",
        "          twitter_test_list.append(y['text']) #adding the new tweet to the list\r\n",
        "          if len(twitter_test_list) == 15000: #knowing to stop at 15000 that this is our limit\r\n",
        "            return False\r\n",
        "          return True\r\n",
        "        except BaseException as e:\r\n",
        "            # print(\"Error on_data: %s\" % str(e))\r\n",
        "            pass\r\n",
        "        return True\r\n",
        "  \r\n",
        "  def on_error(self, status):\r\n",
        "        print(status)\r\n",
        "        return True\r\n",
        "\r\n",
        "myStreamListener = MyStreamListener()\r\n",
        "myStream = tweepy.Stream(auth = api.auth, listener=myStreamListener)\r\n",
        "\r\n",
        "#filter the tweets by using common words to get English only random tweets LIVE\r\n",
        "myStream.filter(track=['nature','wild'])\r\n",
        "# print(len(twitter_test_list))"
      ],
      "execution_count": null,
      "outputs": []
    },
    {
      "cell_type": "code",
      "metadata": {
        "id": "8whrfaXtmC5B"
      },
      "source": [
        "print(len(twitter_test_list))"
      ],
      "execution_count": null,
      "outputs": []
    },
    {
      "cell_type": "code",
      "metadata": {
        "id": "ar3nRwYjvgEQ"
      },
      "source": [
        "# remove not necessary /n\r\n",
        "twitter_test_list_better = [x.replace('\\n',\"\") for x in twitter_test_list]"
      ],
      "execution_count": null,
      "outputs": []
    },
    {
      "cell_type": "code",
      "metadata": {
        "id": "CIHwoF8PD_Fh"
      },
      "source": [
        "#we added option to write to file so we can debug without mining a lot from twitter.\r\n",
        "i = 1\r\n",
        "with open('twitter_test_list.txt', 'w') as f:\r\n",
        "  for item in twitter_test_list_better:\r\n",
        "    print(i)\r\n",
        "    i=i+1\r\n",
        "    f.write(\"%s\\n\" % item)\r\n",
        "    \r\n"
      ],
      "execution_count": null,
      "outputs": []
    },
    {
      "cell_type": "code",
      "metadata": {
        "id": "UcZ8gS7IXWjG"
      },
      "source": [
        "with open('/content/drive/MyDrive/assi_final_project/twitter_test_list.txt') as f:\r\n",
        "    twitter_test_list_from_txt = f.read().splitlines()\r\n",
        "    "
      ],
      "execution_count": null,
      "outputs": []
    },
    {
      "cell_type": "code",
      "metadata": {
        "id": "AsUVFa8WE1cf"
      },
      "source": [
        "# put the tweets in data frame\r\n",
        "twitter_test_list_df = pd.DataFrame(twitter_test_list_from_txt,columns=[\"texts\"]) #adding tweets to a dataframe"
      ],
      "execution_count": null,
      "outputs": []
    },
    {
      "cell_type": "code",
      "metadata": {
        "colab": {
          "base_uri": "https://localhost:8080/",
          "height": 406
        },
        "id": "_sH1mSfsoJM4",
        "outputId": "ae2661eb-04b4-499f-e874-675b8d70ee14"
      },
      "source": [
        "twitter_test_list_df"
      ],
      "execution_count": null,
      "outputs": [
        {
          "output_type": "execute_result",
          "data": {
            "text/html": [
              "<div>\n",
              "<style scoped>\n",
              "    .dataframe tbody tr th:only-of-type {\n",
              "        vertical-align: middle;\n",
              "    }\n",
              "\n",
              "    .dataframe tbody tr th {\n",
              "        vertical-align: top;\n",
              "    }\n",
              "\n",
              "    .dataframe thead th {\n",
              "        text-align: right;\n",
              "    }\n",
              "</style>\n",
              "<table border=\"1\" class=\"dataframe\">\n",
              "  <thead>\n",
              "    <tr style=\"text-align: right;\">\n",
              "      <th></th>\n",
              "      <th>texts</th>\n",
              "    </tr>\n",
              "  </thead>\n",
              "  <tbody>\n",
              "    <tr>\n",
              "      <th>0</th>\n",
              "      <td>Da fuq?</td>\n",
              "    </tr>\n",
              "    <tr>\n",
              "      <th>1</th>\n",
              "      <td>Post-pandemic goal (for Autumn or Spring not W...</td>\n",
              "    </tr>\n",
              "    <tr>\n",
              "      <th>2</th>\n",
              "      <td>RT @404_MyCity: The wild thing is Chloe &amp;amp; ...</td>\n",
              "    </tr>\n",
              "    <tr>\n",
              "      <th>3</th>\n",
              "      <td>RT @DanSevush: Stacey Abrams is a force of nat...</td>\n",
              "    </tr>\n",
              "    <tr>\n",
              "      <th>4</th>\n",
              "      <td>I’m going to post a video of someone live feed...</td>\n",
              "    </tr>\n",
              "    <tr>\n",
              "      <th>...</th>\n",
              "      <td>...</td>\n",
              "    </tr>\n",
              "    <tr>\n",
              "      <th>14995</th>\n",
              "      <td>RT @LivinShidaLife: The way African adults jud...</td>\n",
              "    </tr>\n",
              "    <tr>\n",
              "      <th>14996</th>\n",
              "      <td>RT @ESPNFC: This Messi stat is wild 🤯 https://...</td>\n",
              "    </tr>\n",
              "    <tr>\n",
              "      <th>14997</th>\n",
              "      <td>RT @CauseWereGuys: This was a wild era https:/...</td>\n",
              "    </tr>\n",
              "    <tr>\n",
              "      <th>14998</th>\n",
              "      <td>here’s your reminder that holistic health IS s...</td>\n",
              "    </tr>\n",
              "    <tr>\n",
              "      <th>14999</th>\n",
              "      <td>RT @robcassius: You can prove the existence of...</td>\n",
              "    </tr>\n",
              "  </tbody>\n",
              "</table>\n",
              "<p>15000 rows × 1 columns</p>\n",
              "</div>"
            ],
            "text/plain": [
              "                                                   texts\n",
              "0                                                Da fuq?\n",
              "1      Post-pandemic goal (for Autumn or Spring not W...\n",
              "2      RT @404_MyCity: The wild thing is Chloe &amp; ...\n",
              "3      RT @DanSevush: Stacey Abrams is a force of nat...\n",
              "4      I’m going to post a video of someone live feed...\n",
              "...                                                  ...\n",
              "14995  RT @LivinShidaLife: The way African adults jud...\n",
              "14996  RT @ESPNFC: This Messi stat is wild 🤯 https://...\n",
              "14997  RT @CauseWereGuys: This was a wild era https:/...\n",
              "14998  here’s your reminder that holistic health IS s...\n",
              "14999  RT @robcassius: You can prove the existence of...\n",
              "\n",
              "[15000 rows x 1 columns]"
            ]
          },
          "metadata": {
            "tags": []
          },
          "execution_count": 23
        }
      ]
    },
    {
      "cell_type": "code",
      "metadata": {
        "id": "churHFExFbQx"
      },
      "source": [
        "#pre-processing tweets\r\n",
        "twitter_test_list_df['texts']=twitter_test_list_df.apply(lambda row: clean_tweets(row['texts']),axis=1) "
      ],
      "execution_count": null,
      "outputs": []
    },
    {
      "cell_type": "markdown",
      "metadata": {
        "id": "VoDVZNGFHNq4"
      },
      "source": [
        "# Tag the tweets"
      ]
    },
    {
      "cell_type": "code",
      "metadata": {
        "id": "XuT048orHSMR"
      },
      "source": [
        "with open('/content/drive/MyDrive/assi_final_project/twitter_test_list.txt') as f:\r\n",
        "    twitter_test_list_from_txt = f.read().splitlines()"
      ],
      "execution_count": 27,
      "outputs": []
    },
    {
      "cell_type": "code",
      "metadata": {
        "id": "ZRDJEKLXHWz4"
      },
      "source": [
        "# put the tweets in data frame\r\n",
        "twitter_test_list_df = pd.DataFrame(twitter_test_list_from_txt,columns=[\"texts\"]) #adding tweets to a dataframe"
      ],
      "execution_count": 28,
      "outputs": []
    },
    {
      "cell_type": "code",
      "metadata": {
        "colab": {
          "base_uri": "https://localhost:8080/",
          "height": 406
        },
        "id": "4KxrQiCoHnMQ",
        "outputId": "5941aa5a-08e5-4b5f-90a1-773aa4960f6d"
      },
      "source": [
        "twitter_test_list_df"
      ],
      "execution_count": 29,
      "outputs": [
        {
          "output_type": "execute_result",
          "data": {
            "text/html": [
              "<div>\n",
              "<style scoped>\n",
              "    .dataframe tbody tr th:only-of-type {\n",
              "        vertical-align: middle;\n",
              "    }\n",
              "\n",
              "    .dataframe tbody tr th {\n",
              "        vertical-align: top;\n",
              "    }\n",
              "\n",
              "    .dataframe thead th {\n",
              "        text-align: right;\n",
              "    }\n",
              "</style>\n",
              "<table border=\"1\" class=\"dataframe\">\n",
              "  <thead>\n",
              "    <tr style=\"text-align: right;\">\n",
              "      <th></th>\n",
              "      <th>texts</th>\n",
              "    </tr>\n",
              "  </thead>\n",
              "  <tbody>\n",
              "    <tr>\n",
              "      <th>0</th>\n",
              "      <td>Da fuq?</td>\n",
              "    </tr>\n",
              "    <tr>\n",
              "      <th>1</th>\n",
              "      <td>Post-pandemic goal (for Autumn or Spring not W...</td>\n",
              "    </tr>\n",
              "    <tr>\n",
              "      <th>2</th>\n",
              "      <td>RT @404_MyCity: The wild thing is Chloe &amp;amp; ...</td>\n",
              "    </tr>\n",
              "    <tr>\n",
              "      <th>3</th>\n",
              "      <td>RT @DanSevush: Stacey Abrams is a force of nat...</td>\n",
              "    </tr>\n",
              "    <tr>\n",
              "      <th>4</th>\n",
              "      <td>I’m going to post a video of someone live feed...</td>\n",
              "    </tr>\n",
              "    <tr>\n",
              "      <th>...</th>\n",
              "      <td>...</td>\n",
              "    </tr>\n",
              "    <tr>\n",
              "      <th>14995</th>\n",
              "      <td>RT @LivinShidaLife: The way African adults jud...</td>\n",
              "    </tr>\n",
              "    <tr>\n",
              "      <th>14996</th>\n",
              "      <td>RT @ESPNFC: This Messi stat is wild 🤯 https://...</td>\n",
              "    </tr>\n",
              "    <tr>\n",
              "      <th>14997</th>\n",
              "      <td>RT @CauseWereGuys: This was a wild era https:/...</td>\n",
              "    </tr>\n",
              "    <tr>\n",
              "      <th>14998</th>\n",
              "      <td>here’s your reminder that holistic health IS s...</td>\n",
              "    </tr>\n",
              "    <tr>\n",
              "      <th>14999</th>\n",
              "      <td>RT @robcassius: You can prove the existence of...</td>\n",
              "    </tr>\n",
              "  </tbody>\n",
              "</table>\n",
              "<p>15000 rows × 1 columns</p>\n",
              "</div>"
            ],
            "text/plain": [
              "                                                   texts\n",
              "0                                                Da fuq?\n",
              "1      Post-pandemic goal (for Autumn or Spring not W...\n",
              "2      RT @404_MyCity: The wild thing is Chloe &amp; ...\n",
              "3      RT @DanSevush: Stacey Abrams is a force of nat...\n",
              "4      I’m going to post a video of someone live feed...\n",
              "...                                                  ...\n",
              "14995  RT @LivinShidaLife: The way African adults jud...\n",
              "14996  RT @ESPNFC: This Messi stat is wild 🤯 https://...\n",
              "14997  RT @CauseWereGuys: This was a wild era https:/...\n",
              "14998  here’s your reminder that holistic health IS s...\n",
              "14999  RT @robcassius: You can prove the existence of...\n",
              "\n",
              "[15000 rows x 1 columns]"
            ]
          },
          "metadata": {
            "tags": []
          },
          "execution_count": 29
        }
      ]
    },
    {
      "cell_type": "code",
      "metadata": {
        "id": "0nL8WAwppTTx"
      },
      "source": [
        "positive_vocab = [\r\n",
        "    'good', 'nice', 'great', 'awesome', 'outstanding','impressive','new','fantastic',\r\n",
        "     'terrific','nice', 'like', 'love','lovely','cool', 'triumph', 'triumphal',\r\n",
        "     'triumphant', 'victory','beautiful', 'cool', 'delightful', \r\n",
        "     'exciting','excellent', 'fun', 'happy', 'paradise', 'perfect'\r\n",
        "     'positive', 'remarkable', 'smile', 'thrilling', 'well', 'wow', 'wonderful', 'yes',\r\n",
        "     'adaptable','adaptive', 'adequate', 'adjustable', 'advantages', 'affection', 'agreeable', \r\n",
        "     'amaze', 'amazed', 'amazement', 'amazes' ,'amazing', 'amazingly', 'adorable', 'awesomely', 'awesomeness',\r\n",
        "     'beauty', 'beloved', 'benefit', 'benefits', 'best', 'better', 'bless', 'blessing', 'bliss', 'blissful',\r\n",
        "     'bonus', 'calm' ,'calming', 'calmness', 'celebrate', 'celebrated','celebration', 'clarity', 'classic',\r\n",
        "     'clean','cleaner','cleanest', 'clear', 'colorful', 'comfort', 'comfortable','correct', 'cure', 'dawn', \r\n",
        "     'delicious','delight','delighted','delightful','delightfully','delightfulness', 'easy', 'enjoy',\r\n",
        "     'enjoyable', 'enjoyably', 'enjoyed', 'enjoying', 'enjoys', 'excitement', 'fair', 'fast', 'favorite', \r\n",
        "     'fine', 'freedom', 'fresh', 'generous', 'gentle', 'glow', 'grand' ,'greatest', 'hail', 'harmless',\r\n",
        "     'harmony', 'healthy', 'heaven', 'helpful', 'helping', 'hot', 'improvement', 'improve', 'improved',\r\n",
        "     'incredible', 'inspiring', 'joy', 'joyful', 'keen', 'keenly', 'kindly', 'legendary', 'liked', 'likes',\r\n",
        "     'loved', 'loves', 'loyal', 'lucky', 'magical', 'magnificent', 'merry', 'neat', 'noble', 'optimism', \r\n",
        "     'optimistic', 'perfect', 'perfection', 'perfectly', 'pleasant','pleasantly', 'pleased', 'pleasing', \r\n",
        "     'pleasingly', 'pretty' ,'priceless', 'pure', 'quiet', 'relaxed', 'renown', 'renowned', 'rich',\r\n",
        "     'right' ,'free' , 'safe', 'satisfied','satisfies','satisfy','satisfying','satisified', 'sexy', 'silent', \r\n",
        "     'smiles','smiling', 'success' ,'super', 'sweet', 'useful', 'warm' , 'wealthy','welcome', 'wholesome',\r\n",
        "     'win', 'winner', 'wisdom','wise', ''\r\n",
        "      ]\r\n",
        "\r\n",
        "negative_vocab = [\r\n",
        "    'bad', 'terrible', 'crap', 'useless', 'hate', 'defeat', 'angry', 'annoy', 'awful',\r\n",
        "    'boring', 'cry', 'dirty', 'disgusting', 'not' , 'evil', 'fear', 'filthy',\r\n",
        "    'gross', 'hurt', 'horrible', 'hideous', 'injure', 'lose', 'mean', 'monstrous', 'no', 'negative',\r\n",
        "    'poison', 'sad', 'scary', 'stormy', 'ugly', 'unpleasant', 'upset', 'wound', 'zero',\r\n",
        "    'abnormal', 'absurd', 'abuse', 'abused', 'ache', 'afraid', 'agonies', 'anger', 'anti-', 'anxiety',\r\n",
        "    'anxious', 'attack', 'badly', 'badly', 'betray', 'beware', 'bias', 'bleeding', 'blind', 'bored',\r\n",
        "     'break', 'breaks', 'broke', 'brutally', 'bugs', 'bullies', 'burning', 'cannibal', 'chaos', 'clumsy',\r\n",
        "     'cold', 'collapse', 'complicated', 'complex', 'confused', 'corrupt', 'corrupted', 'creepy', 'crime', \r\n",
        "     'criminal', 'crisis', 'cruel', 'damage', 'damaged', 'dark', 'dead', 'decay', 'deformed', 'demise',\r\n",
        "      'denying', 'depress', 'died', 'dies', 'dirt', 'disable', 'disappointed', 'disaster', 'discord', 'disgusting',\r\n",
        "      'dislike', 'dismay', 'dragged', 'embarrassing', 'embarrassment', 'endanger', 'enemies', 'enemy', 'fail', 'failed',\r\n",
        "      'fake', 'fall', 'false', 'fatal', 'fatalistic', 'fever', 'flaws', 'flaw', 'fool', 'forsake', 'freeze', 'furious', \r\n",
        "      'furiously', 'garbage', 'gloom', 'greasy', 'hard', 'harm', 'harmed', 'hate', 'hated', 'hell', 'horrified', 'idiots',\r\n",
        "      'idiot', 'ill', 'impulsive', 'inflame', 'inhuman', 'injury', 'insane', 'instable', 'ironic', 'irony', 'itch', 'itching',\r\n",
        "      'isolate', 'isolated', 'isolation', 'killed', 'lack', 'lame', 'lazy', 'leaking', 'leaks', 'lethal', 'life-threatening', \r\n",
        "      'lonely', 'loner', 'lost', 'loud', 'menace', 'mess', 'messy', 'murder', 'nemesis', 'noise', 'noises', 'omit', 'panic', \r\n",
        "      'paralize', 'paralyzed', 'pollute', 'polution', 'poor', 'problem', 'punch', 'rage', 'raped', 'reject', 'revenge', 'risks',\r\n",
        "      'risk', 'rotten', 'rude', 'ruins', 'sadness', 'scare', 'scars', 'scream', 'severe', 'shame', 'shark', 'sick', 'sickness', \r\n",
        "      'slap', 'slow', 'smoke', 'sore', 'sorry', 'stinks', 'stormy', 'strange', 'stubborn', 'stupid', 'suck', 'tangled', 'terror', \r\n",
        "      'troubles', 'unwell', 'upseting', 'useless', 'vain', 'weak', 'worry', 'worse', 'wrong']"
      ],
      "execution_count": 30,
      "outputs": []
    },
    {
      "cell_type": "code",
      "metadata": {
        "id": "xtJBYLzxpWS5"
      },
      "source": [
        "def tokenize(s):\r\n",
        "    #return tokens_re.findall(s.encode('ascii','replace'))\r\n",
        "    return tokens_re.findall(s)\r\n",
        " \r\n",
        "def get_tweet_sentiment(tweet):\r\n",
        "  tokens = tokenize(tweet)\r\n",
        "  neg_counter = 0\r\n",
        "  pos_counter = 0\r\n",
        "  for token in tokens:\r\n",
        "    if token in positive_vocab:\r\n",
        "      pos_counter = pos_counter + 1\r\n",
        "    if token in negative_vocab:\r\n",
        "      neg_counter = neg_counter + 1\r\n",
        "  if pos_counter > neg_counter:\r\n",
        "    return 1\r\n",
        "  if pos_counter < neg_counter:\r\n",
        "    return -1\r\n",
        "  else:\r\n",
        "    return 0"
      ],
      "execution_count": 31,
      "outputs": []
    },
    {
      "cell_type": "code",
      "metadata": {
        "id": "t4bef1qRpdYV"
      },
      "source": [
        "#calling the labeling function\r\n",
        "twitter_test_list_df['label'] = twitter_test_list_df.apply(lambda row: get_tweet_sentiment(row['texts']),axis=1) "
      ],
      "execution_count": 32,
      "outputs": []
    },
    {
      "cell_type": "code",
      "metadata": {
        "colab": {
          "base_uri": "https://localhost:8080/",
          "height": 406
        },
        "id": "3XKan-FZpi19",
        "outputId": "d457f507-8765-4747-ca1a-2d2acc49dc8a"
      },
      "source": [
        "twitter_test_list_df"
      ],
      "execution_count": 33,
      "outputs": [
        {
          "output_type": "execute_result",
          "data": {
            "text/html": [
              "<div>\n",
              "<style scoped>\n",
              "    .dataframe tbody tr th:only-of-type {\n",
              "        vertical-align: middle;\n",
              "    }\n",
              "\n",
              "    .dataframe tbody tr th {\n",
              "        vertical-align: top;\n",
              "    }\n",
              "\n",
              "    .dataframe thead th {\n",
              "        text-align: right;\n",
              "    }\n",
              "</style>\n",
              "<table border=\"1\" class=\"dataframe\">\n",
              "  <thead>\n",
              "    <tr style=\"text-align: right;\">\n",
              "      <th></th>\n",
              "      <th>texts</th>\n",
              "      <th>label</th>\n",
              "    </tr>\n",
              "  </thead>\n",
              "  <tbody>\n",
              "    <tr>\n",
              "      <th>0</th>\n",
              "      <td>Da fuq?</td>\n",
              "      <td>0</td>\n",
              "    </tr>\n",
              "    <tr>\n",
              "      <th>1</th>\n",
              "      <td>Post-pandemic goal (for Autumn or Spring not W...</td>\n",
              "      <td>-1</td>\n",
              "    </tr>\n",
              "    <tr>\n",
              "      <th>2</th>\n",
              "      <td>RT @404_MyCity: The wild thing is Chloe &amp;amp; ...</td>\n",
              "      <td>0</td>\n",
              "    </tr>\n",
              "    <tr>\n",
              "      <th>3</th>\n",
              "      <td>RT @DanSevush: Stacey Abrams is a force of nat...</td>\n",
              "      <td>-1</td>\n",
              "    </tr>\n",
              "    <tr>\n",
              "      <th>4</th>\n",
              "      <td>I’m going to post a video of someone live feed...</td>\n",
              "      <td>0</td>\n",
              "    </tr>\n",
              "    <tr>\n",
              "      <th>...</th>\n",
              "      <td>...</td>\n",
              "      <td>...</td>\n",
              "    </tr>\n",
              "    <tr>\n",
              "      <th>14995</th>\n",
              "      <td>RT @LivinShidaLife: The way African adults jud...</td>\n",
              "      <td>-1</td>\n",
              "    </tr>\n",
              "    <tr>\n",
              "      <th>14996</th>\n",
              "      <td>RT @ESPNFC: This Messi stat is wild 🤯 https://...</td>\n",
              "      <td>0</td>\n",
              "    </tr>\n",
              "    <tr>\n",
              "      <th>14997</th>\n",
              "      <td>RT @CauseWereGuys: This was a wild era https:/...</td>\n",
              "      <td>0</td>\n",
              "    </tr>\n",
              "    <tr>\n",
              "      <th>14998</th>\n",
              "      <td>here’s your reminder that holistic health IS s...</td>\n",
              "      <td>0</td>\n",
              "    </tr>\n",
              "    <tr>\n",
              "      <th>14999</th>\n",
              "      <td>RT @robcassius: You can prove the existence of...</td>\n",
              "      <td>0</td>\n",
              "    </tr>\n",
              "  </tbody>\n",
              "</table>\n",
              "<p>15000 rows × 2 columns</p>\n",
              "</div>"
            ],
            "text/plain": [
              "                                                   texts  label\n",
              "0                                                Da fuq?      0\n",
              "1      Post-pandemic goal (for Autumn or Spring not W...     -1\n",
              "2      RT @404_MyCity: The wild thing is Chloe &amp; ...      0\n",
              "3      RT @DanSevush: Stacey Abrams is a force of nat...     -1\n",
              "4      I’m going to post a video of someone live feed...      0\n",
              "...                                                  ...    ...\n",
              "14995  RT @LivinShidaLife: The way African adults jud...     -1\n",
              "14996  RT @ESPNFC: This Messi stat is wild 🤯 https://...      0\n",
              "14997  RT @CauseWereGuys: This was a wild era https:/...      0\n",
              "14998  here’s your reminder that holistic health IS s...      0\n",
              "14999  RT @robcassius: You can prove the existence of...      0\n",
              "\n",
              "[15000 rows x 2 columns]"
            ]
          },
          "metadata": {
            "tags": []
          },
          "execution_count": 33
        }
      ]
    },
    {
      "cell_type": "code",
      "metadata": {
        "id": "WVBbRxDtpmIt"
      },
      "source": [
        "positive_tweets = twitter_test_list_df.loc[twitter_test_list_df['label'] == 1]\r\n",
        "negative_tweets = twitter_test_list_df.loc[twitter_test_list_df['label'] == -1]"
      ],
      "execution_count": 34,
      "outputs": []
    },
    {
      "cell_type": "code",
      "metadata": {
        "colab": {
          "base_uri": "https://localhost:8080/",
          "height": 406
        },
        "id": "mRwkbvMxpmtr",
        "outputId": "eb7b4e5b-e3d8-48bd-89bb-4034ee2ba31b"
      },
      "source": [
        "positive_tweets"
      ],
      "execution_count": 35,
      "outputs": [
        {
          "output_type": "execute_result",
          "data": {
            "text/html": [
              "<div>\n",
              "<style scoped>\n",
              "    .dataframe tbody tr th:only-of-type {\n",
              "        vertical-align: middle;\n",
              "    }\n",
              "\n",
              "    .dataframe tbody tr th {\n",
              "        vertical-align: top;\n",
              "    }\n",
              "\n",
              "    .dataframe thead th {\n",
              "        text-align: right;\n",
              "    }\n",
              "</style>\n",
              "<table border=\"1\" class=\"dataframe\">\n",
              "  <thead>\n",
              "    <tr style=\"text-align: right;\">\n",
              "      <th></th>\n",
              "      <th>texts</th>\n",
              "      <th>label</th>\n",
              "    </tr>\n",
              "  </thead>\n",
              "  <tbody>\n",
              "    <tr>\n",
              "      <th>16</th>\n",
              "      <td>RT @SatyamDixit_: The pure genius of #HinduTem...</td>\n",
              "      <td>1</td>\n",
              "    </tr>\n",
              "    <tr>\n",
              "      <th>21</th>\n",
              "      <td>RT @vangoghmuseum: ‘If I felt no love for natu...</td>\n",
              "      <td>1</td>\n",
              "    </tr>\n",
              "    <tr>\n",
              "      <th>22</th>\n",
              "      <td>It’s wild how every country has a better natio...</td>\n",
              "      <td>1</td>\n",
              "    </tr>\n",
              "    <tr>\n",
              "      <th>31</th>\n",
              "      <td>RT @joshtpm: Apart from the larger arguments a...</td>\n",
              "      <td>1</td>\n",
              "    </tr>\n",
              "    <tr>\n",
              "      <th>35</th>\n",
              "      <td>RT @GeorgianLords: \"It [is] the duty of a wise...</td>\n",
              "      <td>1</td>\n",
              "    </tr>\n",
              "    <tr>\n",
              "      <th>...</th>\n",
              "      <td>...</td>\n",
              "      <td>...</td>\n",
              "    </tr>\n",
              "    <tr>\n",
              "      <th>14977</th>\n",
              "      <td>RT @melaniietweets: @SilverstoneNeil @desertmo...</td>\n",
              "      <td>1</td>\n",
              "    </tr>\n",
              "    <tr>\n",
              "      <th>14980</th>\n",
              "      <td>RT @Peach_Nref: Pink tulips (🌷) are known for ...</td>\n",
              "      <td>1</td>\n",
              "    </tr>\n",
              "    <tr>\n",
              "      <th>14981</th>\n",
              "      <td>RT @BrooklynnNoir: I kissed a girl and liked i...</td>\n",
              "      <td>1</td>\n",
              "    </tr>\n",
              "    <tr>\n",
              "      <th>14989</th>\n",
              "      <td>I’ll take a quality knockoff jersey quick! Esp...</td>\n",
              "      <td>1</td>\n",
              "    </tr>\n",
              "    <tr>\n",
              "      <th>14992</th>\n",
              "      <td>RT @durindanna: found my new favourite art ref...</td>\n",
              "      <td>1</td>\n",
              "    </tr>\n",
              "  </tbody>\n",
              "</table>\n",
              "<p>2513 rows × 2 columns</p>\n",
              "</div>"
            ],
            "text/plain": [
              "                                                   texts  label\n",
              "16     RT @SatyamDixit_: The pure genius of #HinduTem...      1\n",
              "21     RT @vangoghmuseum: ‘If I felt no love for natu...      1\n",
              "22     It’s wild how every country has a better natio...      1\n",
              "31     RT @joshtpm: Apart from the larger arguments a...      1\n",
              "35     RT @GeorgianLords: \"It [is] the duty of a wise...      1\n",
              "...                                                  ...    ...\n",
              "14977  RT @melaniietweets: @SilverstoneNeil @desertmo...      1\n",
              "14980  RT @Peach_Nref: Pink tulips (🌷) are known for ...      1\n",
              "14981  RT @BrooklynnNoir: I kissed a girl and liked i...      1\n",
              "14989  I’ll take a quality knockoff jersey quick! Esp...      1\n",
              "14992  RT @durindanna: found my new favourite art ref...      1\n",
              "\n",
              "[2513 rows x 2 columns]"
            ]
          },
          "metadata": {
            "tags": []
          },
          "execution_count": 35
        }
      ]
    },
    {
      "cell_type": "code",
      "metadata": {
        "colab": {
          "base_uri": "https://localhost:8080/",
          "height": 406
        },
        "id": "kZ7ePULdpqHI",
        "outputId": "c5d7d5d9-9951-4c85-f993-bbf64c206d1c"
      },
      "source": [
        "negative_tweets"
      ],
      "execution_count": 36,
      "outputs": [
        {
          "output_type": "execute_result",
          "data": {
            "text/html": [
              "<div>\n",
              "<style scoped>\n",
              "    .dataframe tbody tr th:only-of-type {\n",
              "        vertical-align: middle;\n",
              "    }\n",
              "\n",
              "    .dataframe tbody tr th {\n",
              "        vertical-align: top;\n",
              "    }\n",
              "\n",
              "    .dataframe thead th {\n",
              "        text-align: right;\n",
              "    }\n",
              "</style>\n",
              "<table border=\"1\" class=\"dataframe\">\n",
              "  <thead>\n",
              "    <tr style=\"text-align: right;\">\n",
              "      <th></th>\n",
              "      <th>texts</th>\n",
              "      <th>label</th>\n",
              "    </tr>\n",
              "  </thead>\n",
              "  <tbody>\n",
              "    <tr>\n",
              "      <th>1</th>\n",
              "      <td>Post-pandemic goal (for Autumn or Spring not W...</td>\n",
              "      <td>-1</td>\n",
              "    </tr>\n",
              "    <tr>\n",
              "      <th>3</th>\n",
              "      <td>RT @DanSevush: Stacey Abrams is a force of nat...</td>\n",
              "      <td>-1</td>\n",
              "    </tr>\n",
              "    <tr>\n",
              "      <th>7</th>\n",
              "      <td>RT @HedgingChaos: Critical lack of adversarial...</td>\n",
              "      <td>-1</td>\n",
              "    </tr>\n",
              "    <tr>\n",
              "      <th>24</th>\n",
              "      <td>RT @NatureAstronomy: Anirudh Chiti et al. reve...</td>\n",
              "      <td>-1</td>\n",
              "    </tr>\n",
              "    <tr>\n",
              "      <th>28</th>\n",
              "      <td>nature of jealousy is insults; denying me in f...</td>\n",
              "      <td>-1</td>\n",
              "    </tr>\n",
              "    <tr>\n",
              "      <th>...</th>\n",
              "      <td>...</td>\n",
              "      <td>...</td>\n",
              "    </tr>\n",
              "    <tr>\n",
              "      <th>14966</th>\n",
              "      <td>RT @jmnbee: ❤🤍🖤BTS - DARK &amp;amp; WILD ALBUM GIV...</td>\n",
              "      <td>-1</td>\n",
              "    </tr>\n",
              "    <tr>\n",
              "      <th>14973</th>\n",
              "      <td>I hate snow ❄️ 😡 🖕🏻Mother Nature ! #snowsnowgo...</td>\n",
              "      <td>-1</td>\n",
              "    </tr>\n",
              "    <tr>\n",
              "      <th>14976</th>\n",
              "      <td>RT @microBIOblog: El SARSCoV2 se transmite por...</td>\n",
              "      <td>-1</td>\n",
              "    </tr>\n",
              "    <tr>\n",
              "      <th>14986</th>\n",
              "      <td>Your carefully simulated science is no match f...</td>\n",
              "      <td>-1</td>\n",
              "    </tr>\n",
              "    <tr>\n",
              "      <th>14995</th>\n",
              "      <td>RT @LivinShidaLife: The way African adults jud...</td>\n",
              "      <td>-1</td>\n",
              "    </tr>\n",
              "  </tbody>\n",
              "</table>\n",
              "<p>1149 rows × 2 columns</p>\n",
              "</div>"
            ],
            "text/plain": [
              "                                                   texts  label\n",
              "1      Post-pandemic goal (for Autumn or Spring not W...     -1\n",
              "3      RT @DanSevush: Stacey Abrams is a force of nat...     -1\n",
              "7      RT @HedgingChaos: Critical lack of adversarial...     -1\n",
              "24     RT @NatureAstronomy: Anirudh Chiti et al. reve...     -1\n",
              "28     nature of jealousy is insults; denying me in f...     -1\n",
              "...                                                  ...    ...\n",
              "14966  RT @jmnbee: ❤🤍🖤BTS - DARK &amp; WILD ALBUM GIV...     -1\n",
              "14973  I hate snow ❄️ 😡 🖕🏻Mother Nature ! #snowsnowgo...     -1\n",
              "14976  RT @microBIOblog: El SARSCoV2 se transmite por...     -1\n",
              "14986  Your carefully simulated science is no match f...     -1\n",
              "14995  RT @LivinShidaLife: The way African adults jud...     -1\n",
              "\n",
              "[1149 rows x 2 columns]"
            ]
          },
          "metadata": {
            "tags": []
          },
          "execution_count": 36
        }
      ]
    },
    {
      "cell_type": "code",
      "metadata": {
        "id": "kNkYGQ2rptGR"
      },
      "source": [
        "#pre-processing tweets\r\n",
        "twitter_test_list_df['texts']=twitter_test_list_df.apply(lambda row: clean_tweets(row['texts']),axis=1) "
      ],
      "execution_count": 37,
      "outputs": []
    },
    {
      "cell_type": "markdown",
      "metadata": {
        "id": "q9boxRlG65xr"
      },
      "source": [
        "**popular terms for each sentiment**"
      ]
    },
    {
      "cell_type": "code",
      "metadata": {
        "id": "a_BKXhfu6_SL"
      },
      "source": [
        "import matplotlib.pyplot as plt\r\n",
        "\r\n",
        "def add_count(target,tokens):\r\n",
        "  for token in tokens.split(\" \"):\r\n",
        "    token_counter[target][token]=token_counter[target].get(token,0)+1\r\n",
        "\r\n",
        "token_counter={0:{},1:{},-1:{}}\r\n",
        "# counting all the occurrences of the tokens\r\n",
        "twitter_test_list_df.apply(lambda row: add_count(row['label'],row['texts']),axis=1)\r\n",
        "token_counter[0]=sorted(token_counter[0].items(), key=lambda kv:kv[1],reverse=True)\r\n",
        "token_counter[1]=sorted(token_counter[1].items(), key=lambda kv:kv[1],reverse=True)\r\n",
        "token_counter[-1]=sorted(token_counter[-1].items(), key=lambda kv:kv[1],reverse=True)"
      ],
      "execution_count": 38,
      "outputs": []
    },
    {
      "cell_type": "code",
      "metadata": {
        "colab": {
          "base_uri": "https://localhost:8080/",
          "height": 264
        },
        "id": "G4cM7JHL8csd",
        "outputId": "9af884e6-01d8-4815-fe22-1efd2f330bfb"
      },
      "source": [
        "x_neg = [i[0] for i in token_counter[-1][:10]]\r\n",
        "y_neg = [i[1] for i in token_counter[-1][:10]]\r\n",
        "plt.bar(x_neg,y_neg)\r\n",
        "plt.show()"
      ],
      "execution_count": 39,
      "outputs": [
        {
          "output_type": "display_data",
          "data": {
            "image/png": "[encoded data removed]",
            "text/plain": [
              "<Figure size 432x288 with 1 Axes>"
            ]
          },
          "metadata": {
            "tags": [],
            "needs_background": "light"
          }
        }
      ]
    },
    {
      "cell_type": "code",
      "metadata": {
        "colab": {
          "base_uri": "https://localhost:8080/",
          "height": 266
        },
        "id": "-7dAmq9186g6",
        "outputId": "a1c623d6-a030-4e9c-ec5e-81537ea4278e"
      },
      "source": [
        "x_pos = [i[0] for i in token_counter[1][:10]]\r\n",
        "y_pos = [i[1] for i in token_counter[1][:10]]\r\n",
        "plt.bar(x_pos,y_pos)\r\n",
        "plt.show()"
      ],
      "execution_count": 40,
      "outputs": [
        {
          "output_type": "display_data",
          "data": {
            "image/png": "[encoded data removed]",
            "text/plain": [
              "<Figure size 432x288 with 1 Axes>"
            ]
          },
          "metadata": {
            "tags": [],
            "needs_background": "light"
          }
        }
      ]
    },
    {
      "cell_type": "markdown",
      "metadata": {
        "id": "XrCCd7OzAWa2"
      },
      "source": [
        "# QUESTION 4: predicting tweets using Machine Learning"
      ]
    },
    {
      "cell_type": "code",
      "metadata": {
        "id": "5kpQRcNiAb1t"
      },
      "source": [
        "vocab= set()\r\n",
        "vocab.update(i[0] for i in token_counter[0] if i[1] >299 )\r\n",
        "vocab.update(i[0] for i in token_counter[1]  if i[1] >299)\r\n",
        "vocab_to_int = {w:i+1 for i, w in enumerate(vocab)}\r\n",
        "\r\n",
        "twitter_test_list_df['encoded']=data.apply(lambda row: tweet_to_series(row['texts']),axis=1)\r\n"
      ],
      "execution_count": 41,
      "outputs": []
    },
    {
      "cell_type": "code",
      "metadata": {
        "id": "NweBKdxCBYFO"
      },
      "source": [
        "corpus=[text for text in twitter_test_list_df['texts']]\r\n",
        "\r\n",
        "#for keras model:\r\n",
        "max_length = 300\r\n",
        "X_test_K = sequence.pad_sequences(twitter_test_list_df['encoded'], maxlen=max_length)"
      ],
      "execution_count": 42,
      "outputs": []
    },
    {
      "cell_type": "code",
      "metadata": {
        "id": "kSM8zsOPBzfY"
      },
      "source": [
        "#adding test records\r\n",
        "Y_test=np.asarray([0 if text==0 else 1 for text in twitter_test_list_df['label']])"
      ],
      "execution_count": 43,
      "outputs": []
    },
    {
      "cell_type": "code",
      "metadata": {
        "colab": {
          "base_uri": "https://localhost:8080/"
        },
        "id": "LUrj8QBkCN2R",
        "outputId": "0a27992b-d33e-4b36-86f1-f071750c66a0"
      },
      "source": [
        "print(\"test acc: \",model_lstm.evaluate(X_test_K,Y_test))"
      ],
      "execution_count": 44,
      "outputs": [
        {
          "output_type": "stream",
          "text": [
            "469/469 [==============================] - 30s 64ms/step - loss: 0.7855 - accuracy: 0.2750\n",
            "test acc:  [0.7855219841003418, 0.2750000059604645]\n"
          ],
          "name": "stdout"
        }
      ]
    },
    {
      "cell_type": "markdown",
      "metadata": {
        "id": "j6-63mJdpEaI"
      },
      "source": [
        "# QUESTION 5: aggregation and google trends"
      ]
    },
    {
      "cell_type": "markdown",
      "metadata": {
        "id": "L_cC4xONdmnz"
      },
      "source": [
        "## Collecting tweets"
      ]
    },
    {
      "cell_type": "code",
      "metadata": {
        "colab": {
          "base_uri": "https://localhost:8080/"
        },
        "id": "4UNT2v0xaf7z",
        "outputId": "5e55cf59-2217-4143-95dd-c119e4ca4bf2"
      },
      "source": [
        "!pip3 install tweepy\r\n",
        "import tweepy\r\n",
        "from tweepy import OAuthHandler\r\n",
        "import json\r\n",
        "\r\n",
        "consumer_key = '7p1vZahHcDsQ3kYVFf1G5CJAA'\r\n",
        "consumer_secret = 'JYjhsCSUgwtY1wnB8nPNuFE1uGezgjzOqMe8QeKqciiELuTxpw'\r\n",
        "access_token = '1347526998776807424-ULSbLrEgZXXZcDHm3cPzRVjDSGv0cN'\r\n",
        "access_secret = 'GIWZ8QcvgS9GLDMmzevrr7Ecy6ryXOlR0MkcAecZ3OcLg'"
      ],
      "execution_count": null,
      "outputs": [
        {
          "output_type": "stream",
          "text": [
            "Requirement already satisfied: tweepy in /usr/local/lib/python3.6/dist-packages (3.6.0)\n",
            "Requirement already satisfied: requests-oauthlib>=0.7.0 in /usr/local/lib/python3.6/dist-packages (from tweepy) (1.3.0)\n",
            "Requirement already satisfied: PySocks>=1.5.7 in /usr/local/lib/python3.6/dist-packages (from tweepy) (1.7.1)\n",
            "Requirement already satisfied: six>=1.10.0 in /usr/local/lib/python3.6/dist-packages (from tweepy) (1.15.0)\n",
            "Requirement already satisfied: requests>=2.11.1 in /usr/local/lib/python3.6/dist-packages (from tweepy) (2.23.0)\n",
            "Requirement already satisfied: oauthlib>=3.0.0 in /usr/local/lib/python3.6/dist-packages (from requests-oauthlib>=0.7.0->tweepy) (3.1.0)\n",
            "Requirement already satisfied: chardet<4,>=3.0.2 in /usr/local/lib/python3.6/dist-packages (from requests>=2.11.1->tweepy) (3.0.4)\n",
            "Requirement already satisfied: urllib3!=1.25.0,!=1.25.1,<1.26,>=1.21.1 in /usr/local/lib/python3.6/dist-packages (from requests>=2.11.1->tweepy) (1.24.3)\n",
            "Requirement already satisfied: idna<3,>=2.5 in /usr/local/lib/python3.6/dist-packages (from requests>=2.11.1->tweepy) (2.10)\n",
            "Requirement already satisfied: certifi>=2017.4.17 in /usr/local/lib/python3.6/dist-packages (from requests>=2.11.1->tweepy) (2020.12.5)\n"
          ],
          "name": "stdout"
        }
      ]
    },
    {
      "cell_type": "code",
      "metadata": {
        "id": "qMvNc-5magui"
      },
      "source": [
        "auth = OAuthHandler(consumer_key,consumer_secret)\r\n",
        "auth.set_access_token(access_token,access_secret)\r\n",
        "auth = tweepy.OAuthHandler(consumer_key, consumer_secret)\r\n",
        "auth.set_access_token(access_token, access_secret)\r\n",
        "\r\n",
        "api = tweepy.API(auth,wait_on_rate_limit=True)"
      ],
      "execution_count": null,
      "outputs": []
    },
    {
      "cell_type": "code",
      "metadata": {
        "id": "KEkvTdNvaovu"
      },
      "source": [
        "twitter_test_list = []\r\n",
        "\r\n",
        "#override tweepy.StreamListener to add logic to on_status\r\n",
        "class MyStreamListener(tweepy.StreamListener):\r\n",
        "  def on_status(self, status):\r\n",
        "        print(status.text)\r\n",
        "  def on_data(self, data):\r\n",
        "        try:\r\n",
        "          y = json.loads(data)\r\n",
        "          print(len(twitter_test_list))\r\n",
        "          twitter_test_list.append(y['text']) #adding the new tweet to the list\r\n",
        "          # if len(twitter_test_list) == 15000: #knowing to stop at 15000 that this is our limit\r\n",
        "          #   return False\r\n",
        "          return True\r\n",
        "        except BaseException as e:\r\n",
        "            # print(\"Error on_data: %s\" % str(e))\r\n",
        "            pass\r\n",
        "        return True\r\n",
        "  \r\n",
        "  def on_error(self, status):\r\n",
        "        print(status)\r\n",
        "        return True\r\n",
        "\r\n",
        "myStreamListener = MyStreamListener()\r\n",
        "myStream = tweepy.Stream(auth = api.auth, listener=myStreamListener)\r\n",
        "\r\n",
        "#filter the tweets by using common words to get English only random tweets LIVE\r\n",
        "myStream.filter(track=['nature','wild'])\r\n",
        "# print(len(twitter_test_list))"
      ],
      "execution_count": null,
      "outputs": []
    },
    {
      "cell_type": "code",
      "metadata": {
        "id": "a76HpzjhavP_"
      },
      "source": [
        "twitter_test_list_better = [x.replace('\\n',\"\") for x in twitter_test_list]"
      ],
      "execution_count": null,
      "outputs": []
    },
    {
      "cell_type": "code",
      "metadata": {
        "id": "fWoLwcj2a0Ho"
      },
      "source": [
        "# writing the tweets to txt file\r\n",
        "i = 1\r\n",
        "with open('fifth_day.txt', 'w') as f:\r\n",
        "  for item in twitter_test_list_better:\r\n",
        "    print(i)\r\n",
        "    i=i+1\r\n",
        "    f.write(\"%s\\n\" % item)"
      ],
      "execution_count": null,
      "outputs": []
    },
    {
      "cell_type": "markdown",
      "metadata": {
        "id": "ncMu9qhYdusR"
      },
      "source": [
        "## Getting the tweets we collected"
      ]
    },
    {
      "cell_type": "code",
      "metadata": {
        "id": "fjkKtYr5u4Yu"
      },
      "source": [
        "with open('/content/drive/MyDrive/assi_final_project/first_day.txt') as f:\r\n",
        "    twitter_first_day_list_from_txt = f.read().splitlines()"
      ],
      "execution_count": null,
      "outputs": []
    },
    {
      "cell_type": "code",
      "metadata": {
        "id": "bYoLyq4JvAlm"
      },
      "source": [
        "# put the tweets in data frame\r\n",
        "twitter_first_day_list_df = pd.DataFrame(twitter_first_day_list_from_txt,columns=[\"texts\"]) #adding tweets to a dataframe"
      ],
      "execution_count": null,
      "outputs": []
    },
    {
      "cell_type": "code",
      "metadata": {
        "id": "MM9zxPxqwjkO"
      },
      "source": [
        "#pre-processing tweets\r\n",
        "twitter_first_day_list_df['texts']=twitter_first_day_list_df.apply(lambda row: clean_tweets(row['texts']),axis=1) "
      ],
      "execution_count": null,
      "outputs": []
    },
    {
      "cell_type": "code",
      "metadata": {
        "id": "Ry4jTm09xw4a"
      },
      "source": [
        "with open('/content/drive/MyDrive/assi_final_project/second_day.txt') as f:\r\n",
        "    twitter_second_day_list_from_txt = f.read().splitlines()"
      ],
      "execution_count": null,
      "outputs": []
    },
    {
      "cell_type": "code",
      "metadata": {
        "id": "cMWP7sZ7x1KI"
      },
      "source": [
        "# put the tweets in data frame\r\n",
        "twitter_second_day_list_df = pd.DataFrame(twitter_second_day_list_from_txt,columns=[\"texts\"]) #adding tweets to a dataframe"
      ],
      "execution_count": null,
      "outputs": []
    },
    {
      "cell_type": "code",
      "metadata": {
        "id": "0xVPfZGix4Yk"
      },
      "source": [
        "#pre-processing tweets\r\n",
        "twitter_second_day_list_df['texts']=twitter_second_day_list_df.apply(lambda row: clean_tweets(row['texts']),axis=1) "
      ],
      "execution_count": null,
      "outputs": []
    },
    {
      "cell_type": "code",
      "metadata": {
        "id": "Ai4cdvLtyNON"
      },
      "source": [
        "with open('/content/drive/MyDrive/assi_final_project/third_day.txt') as f:\r\n",
        "    twitter_third_day_list_from_txt = f.read().splitlines()"
      ],
      "execution_count": null,
      "outputs": []
    },
    {
      "cell_type": "code",
      "metadata": {
        "id": "M9CNjsznyPcZ"
      },
      "source": [
        "# put the tweets in data frame\r\n",
        "twitter_third_day_list_df = pd.DataFrame(twitter_third_day_list_from_txt,columns=[\"texts\"]) #adding tweets to a dataframe"
      ],
      "execution_count": null,
      "outputs": []
    },
    {
      "cell_type": "code",
      "metadata": {
        "id": "9bbVbvoHyTvJ"
      },
      "source": [
        "#pre-processing tweets\r\n",
        "twitter_third_day_list_df['texts']=twitter_third_day_list_df.apply(lambda row: clean_tweets(row['texts']),axis=1) "
      ],
      "execution_count": null,
      "outputs": []
    },
    {
      "cell_type": "code",
      "metadata": {
        "id": "heuMMzKdyzq4"
      },
      "source": [
        "with open('/content/drive/MyDrive/assi_final_project/forth_day.txt') as f:\r\n",
        "    twitter_forth_day_list_from_txt = f.read().splitlines()"
      ],
      "execution_count": null,
      "outputs": []
    },
    {
      "cell_type": "code",
      "metadata": {
        "id": "n_iLwBocy3Mh"
      },
      "source": [
        "# put the tweets in data frame\r\n",
        "twitter_forth_day_list_df = pd.DataFrame(twitter_forth_day_list_from_txt,columns=[\"texts\"]) #adding tweets to a dataframe"
      ],
      "execution_count": null,
      "outputs": []
    },
    {
      "cell_type": "code",
      "metadata": {
        "id": "-N1Fi95uy490"
      },
      "source": [
        "#pre-processing tweets\r\n",
        "twitter_forth_day_list_df['texts']=twitter_forth_day_list_df.apply(lambda row: clean_tweets(row['texts']),axis=1) "
      ],
      "execution_count": null,
      "outputs": []
    },
    {
      "cell_type": "code",
      "metadata": {
        "id": "0ZvwOlwCzOG0"
      },
      "source": [
        "with open('/content/drive/MyDrive/assi_final_project/fifth_day.txt') as f:\r\n",
        "    twitter_fifth_day_list_from_txt = f.read().splitlines()"
      ],
      "execution_count": null,
      "outputs": []
    },
    {
      "cell_type": "code",
      "metadata": {
        "id": "Yi2SO2omzQrj"
      },
      "source": [
        "# put the tweets in data frame\r\n",
        "twitter_fifth_day_list_df = pd.DataFrame(twitter_fifth_day_list_from_txt,columns=[\"texts\"]) #adding tweets to a dataframe"
      ],
      "execution_count": null,
      "outputs": []
    },
    {
      "cell_type": "code",
      "metadata": {
        "id": "OSpRjUmBzSvk"
      },
      "source": [
        "#pre-processing tweets\r\n",
        "twitter_fifth_day_list_df['texts']=twitter_fifth_day_list_df.apply(lambda row: clean_tweets(row['texts']),axis=1) "
      ],
      "execution_count": null,
      "outputs": []
    },
    {
      "cell_type": "markdown",
      "metadata": {
        "id": "kEGAISEZeFEz"
      },
      "source": [
        "## Graph of tweets per day"
      ]
    },
    {
      "cell_type": "code",
      "metadata": {
        "colab": {
          "base_uri": "https://localhost:8080/",
          "height": 282
        },
        "id": "00ZJT40ez3SB",
        "outputId": "059dd09e-53b6-40bd-d175-8c33a988be86"
      },
      "source": [
        "import matplotlib.pyplot as plt\r\n",
        "list_days = ['first_day', 'second_day', 'third_day', 'forth_day', 'fifth_day']\r\n",
        "list_count_tweets = [twitter_first_day_list_df.shape[0], twitter_second_day_list_df.shape[0], twitter_third_day_list_df.shape[0], twitter_forth_day_list_df.shape[0], twitter_fifth_day_list_df.shape[0]]\r\n",
        "plt.bar(list_days, list_count_tweets)"
      ],
      "execution_count": null,
      "outputs": [
        {
          "output_type": "execute_result",
          "data": {
            "text/plain": [
              "<BarContainer object of 5 artists>"
            ]
          },
          "metadata": {
            "tags": []
          },
          "execution_count": 63
        },
        {
          "output_type": "display_data",
          "data": {
            "image/png": "[encoded data removed]",
            "text/plain": [
              "<Figure size 432x288 with 1 Axes>"
            ]
          },
          "metadata": {
            "tags": [],
            "needs_background": "light"
          }
        }
      ]
    },
    {
      "cell_type": "markdown",
      "metadata": {
        "id": "08O6K6hDecfj"
      },
      "source": [
        "## Sentiment prediction and ratio of positive per day"
      ]
    },
    {
      "cell_type": "code",
      "metadata": {
        "id": "P-hmH5PIFqly"
      },
      "source": [
        "vocab= set()\r\n",
        "vocab.update(i[0] for i in token_counter[0] if i[1] >299 )\r\n",
        "vocab.update(i[0] for i in token_counter[1]  if i[1] >299)\r\n",
        "vocab_to_int = {w:i+1 for i, w in enumerate(vocab)}\r\n",
        "\r\n",
        "twitter_first_day_list_df['encoded']=twitter_first_day_list_df.apply(lambda row: tweet_to_series(row['texts']),axis=1)"
      ],
      "execution_count": null,
      "outputs": []
    },
    {
      "cell_type": "code",
      "metadata": {
        "id": "RLIaCEzoILHG"
      },
      "source": [
        "corpus=[text for text in twitter_first_day_list_df['texts']]\r\n",
        "\r\n",
        "#for keras model:\r\n",
        "max_length = 300\r\n",
        "X_test_K = sequence.pad_sequences(twitter_first_day_list_df['encoded'], maxlen=max_length)"
      ],
      "execution_count": null,
      "outputs": []
    },
    {
      "cell_type": "code",
      "metadata": {
        "id": "ZEQJJP9sIQJr"
      },
      "source": [
        "res = model_lstm.predict(X_test_K)"
      ],
      "execution_count": null,
      "outputs": []
    },
    {
      "cell_type": "code",
      "metadata": {
        "id": "HcurlJS0SRgH"
      },
      "source": [
        "positive_count_first = 0\r\n",
        "for i in range(len(res)):\r\n",
        "    if res[i] < 0.5:\r\n",
        "      res[i] = 0\r\n",
        "    else:\r\n",
        "      positive_count_first = positive_count_first + 1\r\n",
        "      res[i] = 1"
      ],
      "execution_count": null,
      "outputs": []
    },
    {
      "cell_type": "code",
      "metadata": {
        "colab": {
          "base_uri": "https://localhost:8080/"
        },
        "id": "v3pzLBUBWrx5",
        "outputId": "79201c92-e497-4dd8-96f1-36ea60d59d7f"
      },
      "source": [
        "ratio = positive_count_first / len(res)\r\n",
        "print(\"ratio of positive words for the first day:\")\r\n",
        "print(ratio)"
      ],
      "execution_count": null,
      "outputs": [
        {
          "output_type": "stream",
          "text": [
            "ratio of positive words for the first day:\n",
            "0.5285358329378262\n"
          ],
          "name": "stdout"
        }
      ]
    },
    {
      "cell_type": "code",
      "metadata": {
        "id": "aLOvKNPnXWgt"
      },
      "source": [
        "twitter_second_day_list_df['encoded']=twitter_second_day_list_df.apply(lambda row: tweet_to_series(row['texts']),axis=1)"
      ],
      "execution_count": null,
      "outputs": []
    },
    {
      "cell_type": "code",
      "metadata": {
        "id": "SMK1zMrjXdq1"
      },
      "source": [
        "corpus=[text for text in twitter_second_day_list_df['texts']]\r\n",
        "\r\n",
        "#for keras model:\r\n",
        "max_length = 300\r\n",
        "X_test_K = sequence.pad_sequences(twitter_second_day_list_df['encoded'], maxlen=max_length)"
      ],
      "execution_count": null,
      "outputs": []
    },
    {
      "cell_type": "code",
      "metadata": {
        "id": "WTowlOBUXqaz"
      },
      "source": [
        "res = model_lstm.predict(X_test_K)"
      ],
      "execution_count": null,
      "outputs": []
    },
    {
      "cell_type": "code",
      "metadata": {
        "id": "jYxYHEDsXt0B"
      },
      "source": [
        "positive_count_second = 0\r\n",
        "for i in range(len(res)):\r\n",
        "    if res[i] < 0.5:\r\n",
        "      res[i] = 0\r\n",
        "    else:\r\n",
        "      positive_count_second = positive_count_second + 1\r\n",
        "      res[i] = 1"
      ],
      "execution_count": null,
      "outputs": []
    },
    {
      "cell_type": "code",
      "metadata": {
        "colab": {
          "base_uri": "https://localhost:8080/"
        },
        "id": "aYDBEUxyX81V",
        "outputId": "26dab2c5-5bc2-4db9-ccb6-1ce658a2eb5f"
      },
      "source": [
        "ratio = positive_count_second / len(res)\r\n",
        "print(\"ratio of positive words for the second day:\")\r\n",
        "print(ratio)"
      ],
      "execution_count": null,
      "outputs": [
        {
          "output_type": "stream",
          "text": [
            "ratio of positive words for the second day:\n",
            "0.5386182130031624\n"
          ],
          "name": "stdout"
        }
      ]
    },
    {
      "cell_type": "code",
      "metadata": {
        "id": "Q4UTipBiYuek"
      },
      "source": [
        "twitter_third_day_list_df['encoded']=twitter_third_day_list_df.apply(lambda row: tweet_to_series(row['texts']),axis=1)"
      ],
      "execution_count": null,
      "outputs": []
    },
    {
      "cell_type": "code",
      "metadata": {
        "id": "fd7K2MVAYyuN"
      },
      "source": [
        "corpus=[text for text in twitter_third_day_list_df['texts']]\r\n",
        "\r\n",
        "#for keras model:\r\n",
        "max_length = 300\r\n",
        "X_test_K = sequence.pad_sequences(twitter_third_day_list_df['encoded'], maxlen=max_length)"
      ],
      "execution_count": null,
      "outputs": []
    },
    {
      "cell_type": "code",
      "metadata": {
        "id": "jTnOjk9aY0lo"
      },
      "source": [
        "res = model_lstm.predict(X_test_K)"
      ],
      "execution_count": null,
      "outputs": []
    },
    {
      "cell_type": "code",
      "metadata": {
        "id": "k6BVspn0Y2dD"
      },
      "source": [
        "positive_count_third = 0\r\n",
        "for i in range(len(res)):\r\n",
        "    if res[i] < 0.5:\r\n",
        "      res[i] = 0\r\n",
        "    else:\r\n",
        "      positive_count_third = positive_count_third + 1\r\n",
        "      res[i] = 1"
      ],
      "execution_count": null,
      "outputs": []
    },
    {
      "cell_type": "code",
      "metadata": {
        "colab": {
          "base_uri": "https://localhost:8080/"
        },
        "id": "YlGQbd-kY4He",
        "outputId": "24fb8d48-4eec-4e38-f10d-6f6cb93b2abd"
      },
      "source": [
        "ratio = positive_count_third / len(res)\r\n",
        "print(\"ratio of positive words for the third day:\")\r\n",
        "print(ratio)"
      ],
      "execution_count": null,
      "outputs": [
        {
          "output_type": "stream",
          "text": [
            "ratio of positive words for the third day:\n",
            "0.5713971687329641\n"
          ],
          "name": "stdout"
        }
      ]
    },
    {
      "cell_type": "code",
      "metadata": {
        "id": "LIUapb5UZgEf"
      },
      "source": [
        "twitter_forth_day_list_df['encoded']=twitter_forth_day_list_df.apply(lambda row: tweet_to_series(row['texts']),axis=1)"
      ],
      "execution_count": null,
      "outputs": []
    },
    {
      "cell_type": "code",
      "metadata": {
        "id": "peWEZIB9ZkLL"
      },
      "source": [
        "corpus=[text for text in twitter_forth_day_list_df['texts']]\r\n",
        "\r\n",
        "#for keras model:\r\n",
        "max_length = 300\r\n",
        "X_test_K = sequence.pad_sequences(twitter_forth_day_list_df['encoded'], maxlen=max_length)"
      ],
      "execution_count": null,
      "outputs": []
    },
    {
      "cell_type": "code",
      "metadata": {
        "id": "Wm-7pKi7ZlV3"
      },
      "source": [
        "res = model_lstm.predict(X_test_K)"
      ],
      "execution_count": null,
      "outputs": []
    },
    {
      "cell_type": "code",
      "metadata": {
        "id": "LC3ZX161Zo7W"
      },
      "source": [
        "positive_count_forth = 0\r\n",
        "for i in range(len(res)):\r\n",
        "    if res[i] < 0.5:\r\n",
        "      res[i] = 0\r\n",
        "    else:\r\n",
        "      positive_count_forth = positive_count_forth + 1\r\n",
        "      res[i] = 1"
      ],
      "execution_count": null,
      "outputs": []
    },
    {
      "cell_type": "code",
      "metadata": {
        "colab": {
          "base_uri": "https://localhost:8080/"
        },
        "id": "-19vDsjHZsC6",
        "outputId": "9a1d0551-162b-4b60-a142-44bade42a79c"
      },
      "source": [
        "ratio = positive_count_forth / len(res)\r\n",
        "print(\"ratio of positive words for the forth day:\")\r\n",
        "print(ratio)"
      ],
      "execution_count": null,
      "outputs": [
        {
          "output_type": "stream",
          "text": [
            "ratio of positive words for the forth day:\n",
            "0.4792177576557882\n"
          ],
          "name": "stdout"
        }
      ]
    },
    {
      "cell_type": "code",
      "metadata": {
        "id": "19_4JOIMcsVW"
      },
      "source": [
        "twitter_fifth_day_list_df['encoded']=twitter_fifth_day_list_df.apply(lambda row: tweet_to_series(row['texts']),axis=1)"
      ],
      "execution_count": null,
      "outputs": []
    },
    {
      "cell_type": "code",
      "metadata": {
        "id": "dYWI2HwAcu0L"
      },
      "source": [
        "corpus=[text for text in twitter_fifth_day_list_df['texts']]\r\n",
        "\r\n",
        "#for keras model:\r\n",
        "max_length = 300\r\n",
        "X_test_K = sequence.pad_sequences(twitter_fifth_day_list_df['encoded'], maxlen=max_length)"
      ],
      "execution_count": null,
      "outputs": []
    },
    {
      "cell_type": "code",
      "metadata": {
        "id": "jsSA-SF9cyQc"
      },
      "source": [
        "res = model_lstm.predict(X_test_K)"
      ],
      "execution_count": null,
      "outputs": []
    },
    {
      "cell_type": "code",
      "metadata": {
        "id": "BJ7BEBp2c0tR"
      },
      "source": [
        "positive_count_fifth = 0\r\n",
        "for i in range(len(res)):\r\n",
        "    if res[i] < 0.5:\r\n",
        "      res[i] = 0\r\n",
        "    else:\r\n",
        "      positive_count_fifth = positive_count_fifth + 1\r\n",
        "      res[i] = 1"
      ],
      "execution_count": null,
      "outputs": []
    },
    {
      "cell_type": "code",
      "metadata": {
        "colab": {
          "base_uri": "https://localhost:8080/"
        },
        "id": "V4_NxslWc2oe",
        "outputId": "35b9b1d4-0088-4066-dde7-8e1fb3471f44"
      },
      "source": [
        "ratio = positive_count_fifth / len(res)\r\n",
        "print(\"ratio of positive words for the fifth day:\")\r\n",
        "print(ratio)"
      ],
      "execution_count": null,
      "outputs": [
        {
          "output_type": "stream",
          "text": [
            "ratio of positive words for the fifth day:\n",
            "0.4599691221879135\n"
          ],
          "name": "stdout"
        }
      ]
    },
    {
      "cell_type": "markdown",
      "metadata": {
        "id": "hurjstGLgD1x"
      },
      "source": [
        "## Graph of positive per day"
      ]
    },
    {
      "cell_type": "code",
      "metadata": {
        "colab": {
          "base_uri": "https://localhost:8080/",
          "height": 282
        },
        "id": "KUHHPVNxhEyj",
        "outputId": "d7786378-efba-4110-a128-b75dd55328f3"
      },
      "source": [
        "import matplotlib.pyplot as plt\r\n",
        "list_days = ['first_day', 'second_day', 'third_day', 'forth_day', 'fifth_day']\r\n",
        "list_count_psitive_per_days = [positive_count_first, positive_count_second, positive_count_third, positive_count_forth, positive_count_fifth]\r\n",
        "plt.bar(list_days, list_count_psitive_per_days)"
      ],
      "execution_count": null,
      "outputs": [
        {
          "output_type": "execute_result",
          "data": {
            "text/plain": [
              "<BarContainer object of 5 artists>"
            ]
          },
          "metadata": {
            "tags": []
          },
          "execution_count": 89
        },
        {
          "output_type": "display_data",
          "data": {
            "image/png": "[encoded data removed]",
            "text/plain": [
              "<Figure size 432x288 with 1 Axes>"
            ]
          },
          "metadata": {
            "tags": [],
            "needs_background": "light"
          }
        }
      ]
    },
    {
      "cell_type": "markdown",
      "metadata": {
        "id": "KkULV8JpsXW_"
      },
      "source": [
        "## Graph from google trends"
      ]
    },
    {
      "cell_type": "markdown",
      "metadata": {
        "id": "upuTpMnyuLnI"
      },
      "source": [
        "red represent natuer and blue represent wild."
      ]
    },
    {
      "cell_type": "markdown",
      "metadata": {
        "id": "PX-ASEJAsQQg"
      },
      "source": [
        "![image.png](data:image/png;base64,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)"
      ]
    },
    {
      "cell_type": "markdown",
      "metadata": {
        "id": "IYq4nTBzyNti"
      },
      "source": [
        "### tweet counts per day and positive tweet counts per day Pearson Correlation"
      ]
    },
    {
      "cell_type": "code",
      "metadata": {
        "colab": {
          "base_uri": "https://localhost:8080/"
        },
        "id": "VTMLbM5CwXMn",
        "outputId": "33bc589c-b8f2-43d4-d874-34a368058236"
      },
      "source": [
        "import numpy as np\r\n",
        "\r\n",
        "paerson = np.corrcoef(list_count_psitive_per_days, list_count_tweets)\r\n",
        "print(paerson)"
      ],
      "execution_count": null,
      "outputs": [
        {
          "output_type": "stream",
          "text": [
            "[[1.         0.95398905]\n",
            " [0.95398905 1.        ]]\n"
          ],
          "name": "stdout"
        }
      ]
    },
    {
      "cell_type": "markdown",
      "metadata": {
        "id": "VAG6BLHgymk-"
      },
      "source": [
        "### tweet counts per day and google search per day Pearson Correlation"
      ]
    },
    {
      "cell_type": "code",
      "metadata": {
        "id": "ZLf3-n37xmQh"
      },
      "source": [
        "list_count_from_google_trends = [110, 119, 114, 111, 126]"
      ],
      "execution_count": null,
      "outputs": []
    },
    {
      "cell_type": "code",
      "metadata": {
        "colab": {
          "base_uri": "https://localhost:8080/"
        },
        "id": "HmD_PGkGyGFr",
        "outputId": "66c28237-0e60-481e-935e-9c6978f382fd"
      },
      "source": [
        "paerson = np.corrcoef(list_count_from_google_trends, list_count_tweets)\r\n",
        "print(paerson)"
      ],
      "execution_count": null,
      "outputs": [
        {
          "output_type": "stream",
          "text": [
            "[[1.         0.16137248]\n",
            " [0.16137248 1.        ]]\n"
          ],
          "name": "stdout"
        }
      ]
    },
    {
      "cell_type": "markdown",
      "metadata": {
        "id": "JWuaJjBRy-bq"
      },
      "source": [
        "positive tweet counts per day and google search per day Pearson Correlation"
      ]
    },
    {
      "cell_type": "code",
      "metadata": {
        "colab": {
          "base_uri": "https://localhost:8080/"
        },
        "id": "vE1re4sSzG_3",
        "outputId": "e4828a8b-c724-4830-aec0-f88eb1ba1da6"
      },
      "source": [
        "paerson = np.corrcoef(list_count_from_google_trends, list_count_psitive_per_days)\r\n",
        "print(paerson)"
      ],
      "execution_count": null,
      "outputs": [
        {
          "output_type": "stream",
          "text": [
            "[[1.         0.00725715]\n",
            " [0.00725715 1.        ]]\n"
          ],
          "name": "stdout"
        }
      ]
    }
  ]
}